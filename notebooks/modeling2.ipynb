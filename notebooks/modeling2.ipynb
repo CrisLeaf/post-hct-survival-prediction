{
 "cells": [
  {
   "cell_type": "markdown",
   "metadata": {},
   "source": [
    "# Imports"
   ]
  },
  {
   "cell_type": "code",
   "execution_count": 1,
   "metadata": {},
   "outputs": [],
   "source": [
    "import time\n",
    "start_time = time.time()"
   ]
  },
  {
   "cell_type": "code",
   "execution_count": 2,
   "metadata": {},
   "outputs": [],
   "source": [
    "import numpy as np\n",
    "import pandas as pd\n",
    "import matplotlib.pyplot as plt\n",
    "import seaborn as sns\n",
    "\n",
    "pd.set_option('display.max_columns', None)\n",
    "sns.set_style('whitegrid')\n",
    "sns.set_palette('muted')\n",
    "\n",
    "from datetime import datetime\n",
    "\n",
    "from tqdm import tqdm\n",
    "\n",
    "from sklearn.base import clone\n",
    "\n",
    "from sklearn.preprocessing import StandardScaler\n",
    "from sklearn.pipeline import Pipeline\n",
    "\n",
    "from sklearn.linear_model import LinearRegression\n",
    "from sklearn.ensemble import RandomForestRegressor\n",
    "from xgboost import XGBRegressor\n",
    "from lightgbm import LGBMRegressor"
   ]
  },
  {
   "cell_type": "code",
   "execution_count": 3,
   "metadata": {},
   "outputs": [],
   "source": [
    "DATA_PATH = '../data/equity-post-HCT-survival-predictions/'\n",
    "RANDOM_STATE = 54321"
   ]
  },
  {
   "cell_type": "markdown",
   "metadata": {},
   "source": [
    "# Data"
   ]
  },
  {
   "cell_type": "code",
   "execution_count": 4,
   "metadata": {},
   "outputs": [],
   "source": [
    "sample_df = pd.read_csv(DATA_PATH + 'sample_submission.csv')\n",
    "test_df = pd.read_csv(DATA_PATH + 'test.csv')"
   ]
  },
  {
   "cell_type": "code",
   "execution_count": 5,
   "metadata": {},
   "outputs": [],
   "source": [
    "X = pd.read_pickle(DATA_PATH + 'train_test_split/X_25-12-2024.pkl')\n",
    "y = pd.read_pickle(DATA_PATH + 'train_test_split/y_25-12-2024.pkl')\n",
    "efs_time = pd.read_pickle(DATA_PATH + 'train_test_split/efs_time_25-12-2024.pkl')\n",
    "race_group = pd.read_pickle(DATA_PATH + 'train_test_split/race_group_25-12-2024.pkl')"
   ]
  },
  {
   "cell_type": "code",
   "execution_count": 6,
   "metadata": {},
   "outputs": [
    {
     "name": "stdout",
     "output_type": "stream",
     "text": [
      "(28800, 81) (28800,) (28800,) (28800,)\n"
     ]
    }
   ],
   "source": [
    "print(X.shape, y.shape, efs_time.shape, race_group.shape)"
   ]
  },
  {
   "cell_type": "markdown",
   "metadata": {},
   "source": [
    "# Modeling"
   ]
  },
  {
   "cell_type": "markdown",
   "metadata": {},
   "source": [
    "## Metric"
   ]
  },
  {
   "cell_type": "code",
   "execution_count": 7,
   "metadata": {},
   "outputs": [
    {
     "name": "stdout",
     "output_type": "stream",
     "text": [
      "<class 'pandas.core.frame.DataFrame'>\n",
      "RangeIndex: 3 entries, 0 to 2\n",
      "Data columns (total 58 columns):\n",
      " #   Column                  Non-Null Count  Dtype  \n",
      "---  ------                  --------------  -----  \n",
      " 0   ID                      3 non-null      int64  \n",
      " 1   dri_score               3 non-null      object \n",
      " 2   psych_disturb           3 non-null      object \n",
      " 3   cyto_score              1 non-null      object \n",
      " 4   diabetes                3 non-null      object \n",
      " 5   hla_match_c_high        2 non-null      float64\n",
      " 6   hla_high_res_8          2 non-null      float64\n",
      " 7   tbi_status              3 non-null      object \n",
      " 8   arrhythmia              3 non-null      object \n",
      " 9   hla_low_res_6           3 non-null      float64\n",
      " 10  graft_type              3 non-null      object \n",
      " 11  vent_hist               3 non-null      object \n",
      " 12  renal_issue             3 non-null      object \n",
      " 13  pulm_severe             3 non-null      object \n",
      " 14  prim_disease_hct        3 non-null      object \n",
      " 15  hla_high_res_6          3 non-null      float64\n",
      " 16  cmv_status              3 non-null      object \n",
      " 17  hla_high_res_10         2 non-null      float64\n",
      " 18  hla_match_dqb1_high     3 non-null      float64\n",
      " 19  tce_imm_match           2 non-null      object \n",
      " 20  hla_nmdp_6              3 non-null      float64\n",
      " 21  hla_match_c_low         3 non-null      float64\n",
      " 22  rituximab               3 non-null      object \n",
      " 23  hla_match_drb1_low      3 non-null      float64\n",
      " 24  hla_match_dqb1_low      3 non-null      float64\n",
      " 25  prod_type               3 non-null      object \n",
      " 26  cyto_score_detail       1 non-null      object \n",
      " 27  conditioning_intensity  1 non-null      object \n",
      " 28  ethnicity               3 non-null      object \n",
      " 29  year_hct                3 non-null      int64  \n",
      " 30  obesity                 3 non-null      object \n",
      " 31  mrd_hct                 1 non-null      object \n",
      " 32  in_vivo_tcd             3 non-null      object \n",
      " 33  tce_match               1 non-null      object \n",
      " 34  hla_match_a_high        3 non-null      float64\n",
      " 35  hepatic_severe          3 non-null      object \n",
      " 36  donor_age               1 non-null      float64\n",
      " 37  prior_tumor             3 non-null      object \n",
      " 38  hla_match_b_low         3 non-null      float64\n",
      " 39  peptic_ulcer            3 non-null      object \n",
      " 40  age_at_hct              3 non-null      float64\n",
      " 41  hla_match_a_low         3 non-null      float64\n",
      " 42  gvhd_proph              3 non-null      object \n",
      " 43  rheum_issue             3 non-null      object \n",
      " 44  sex_match               3 non-null      object \n",
      " 45  hla_match_b_high        3 non-null      float64\n",
      " 46  race_group              3 non-null      object \n",
      " 47  comorbidity_score       3 non-null      float64\n",
      " 48  karnofsky_score         3 non-null      float64\n",
      " 49  hepatic_mild            3 non-null      object \n",
      " 50  tce_div_match           2 non-null      object \n",
      " 51  donor_related           3 non-null      object \n",
      " 52  melphalan_dose          3 non-null      object \n",
      " 53  hla_low_res_8           3 non-null      float64\n",
      " 54  cardiac                 3 non-null      object \n",
      " 55  hla_match_drb1_high     3 non-null      float64\n",
      " 56  pulm_moderate           3 non-null      object \n",
      " 57  hla_low_res_10          3 non-null      float64\n",
      "dtypes: float64(21), int64(2), object(35)\n",
      "memory usage: 1.5+ KB\n"
     ]
    }
   ],
   "source": [
    "test_df.info()"
   ]
  },
  {
   "cell_type": "code",
   "execution_count": 8,
   "metadata": {},
   "outputs": [],
   "source": [
    "import pandas as pd\n",
    "import pandas.api.types\n",
    "import numpy as np\n",
    "from lifelines.utils import concordance_index\n",
    "\n",
    "class ParticipantVisibleError(Exception):\n",
    "    pass\n",
    "\n",
    "\n",
    "def score(solution: pd.DataFrame, submission: pd.DataFrame, row_id_column_name: str) -> float:\n",
    "    \"\"\"\n",
    "    >>> import pandas as pd\n",
    "    >>> row_id_column_name = \"id\"\n",
    "    >>> y_pred = {'prediction': {0: 1.0, 1: 0.0, 2: 1.0}}\n",
    "    >>> y_pred = pd.DataFrame(y_pred)\n",
    "    >>> y_pred.insert(0, row_id_column_name, range(len(y_pred)))\n",
    "    >>> y_true = { 'efs': {0: 1.0, 1: 0.0, 2: 0.0}, 'efs_time': {0: 25.1234,1: 250.1234,2: 2500.1234}, 'race_group': {0: 'race_group_1', 1: 'race_group_1', 2: 'race_group_1'}}\n",
    "    >>> y_true = pd.DataFrame(y_true)\n",
    "    >>> y_true.insert(0, row_id_column_name, range(len(y_true)))\n",
    "    >>> score(y_true.copy(), y_pred.copy(), row_id_column_name)\n",
    "    0.75\n",
    "    \"\"\"\n",
    "    \n",
    "    del solution[row_id_column_name]\n",
    "    del submission[row_id_column_name]\n",
    "    \n",
    "    event_label = 'efs'\n",
    "    interval_label = 'efs_time'\n",
    "    prediction_label = 'prediction'\n",
    "    for col in submission.columns:\n",
    "        if not pandas.api.types.is_numeric_dtype(submission[col]):\n",
    "            raise ParticipantVisibleError(f'Submission column {col} must be a number')\n",
    "    # Merging solution and submission dfs on ID\n",
    "    merged_df = pd.concat([solution, submission], axis=1)\n",
    "    merged_df.reset_index(inplace=True)\n",
    "    merged_df_race_dict = dict(merged_df.groupby(['race_group']).groups)\n",
    "    metric_list = []\n",
    "    for race in merged_df_race_dict.keys():\n",
    "        # Retrieving values from y_test based on index\n",
    "        indices = sorted(merged_df_race_dict[race])\n",
    "        merged_df_race = merged_df.iloc[indices]\n",
    "        # Calculate the concordance index\n",
    "        c_index_race = concordance_index(\n",
    "                        merged_df_race[interval_label],\n",
    "                        -merged_df_race[prediction_label],\n",
    "                        merged_df_race[event_label])\n",
    "        metric_list.append(c_index_race)\n",
    "    return float(np.mean(metric_list)-np.sqrt(np.var(metric_list)))"
   ]
  },
  {
   "cell_type": "code",
   "execution_count": 9,
   "metadata": {},
   "outputs": [],
   "source": [
    "def score_wrapper(y_true, y_pred, efs_time, race_group):\n",
    "    y_pred_dict = {\n",
    "        'prediction': {i: pred for i, pred in enumerate(y_pred)}\n",
    "    }        \n",
    "    y_pred_dict = pd.DataFrame(y_pred_dict)\n",
    "    y_pred_dict.insert(0, 'id', range(len(y_pred_dict)))\n",
    "    \n",
    "    y_true_dict = {\n",
    "        'efs': {i: y for i, y in enumerate(y_true.values)},\n",
    "        'efs_time': {i: t for i, t in enumerate(efs_time.values)},\n",
    "        'race_group': {i: r for i, r in enumerate(race_group.values)},\n",
    "    }\n",
    "    y_true_dict = pd.DataFrame(y_true_dict)\n",
    "    y_true_dict.insert(0, 'id', range(len(y_true_dict)))\n",
    "    \n",
    "    return score(y_true_dict.copy(), y_pred_dict.copy(), 'id')\n",
    "\n",
    "def cross_validate(model, X, y, cv=10, scale=False):\n",
    "    cv_scores = []\n",
    "    \n",
    "    for i in tqdm(range(cv)):\n",
    "        test_idxs = list(range(int((len(X)*(i)/cv)), int((len(X)*(i+1)/cv))))\n",
    "        \n",
    "        X_train = X.drop(index=test_idxs)\n",
    "        y_train = y.drop(index=test_idxs)\n",
    "        \n",
    "        X_test = X.iloc[test_idxs]\n",
    "        y_test = y.iloc[test_idxs]\n",
    "        \n",
    "        if scale:\n",
    "            scaler = StandardScaler()\n",
    "            X_train = scaler.fit_transform(X_train)\n",
    "            X_test = scaler.transform(X_test)\n",
    "        \n",
    "        model_copy = clone(model)\n",
    "        \n",
    "        model_copy.fit(X_train, y_train)\n",
    "        y_pred = model_copy.predict(X_test)\n",
    "        \n",
    "        cv_scores.append(score_wrapper(\n",
    "            y_test, \n",
    "            y_pred, \n",
    "            efs_time.iloc[test_idxs], \n",
    "            race_group.iloc[test_idxs]\n",
    "        ))\n",
    "    \n",
    "    return np.mean(cv_scores)"
   ]
  },
  {
   "cell_type": "markdown",
   "metadata": {},
   "source": [
    "## Scikit Learn Model"
   ]
  },
  {
   "cell_type": "code",
   "execution_count": 10,
   "metadata": {},
   "outputs": [],
   "source": [
    "X = X.dropna()\n",
    "y = y[X.index].copy()\n",
    "\n",
    "efs_time = efs_time[X.index].copy()\n",
    "race_group = race_group[X.index].copy()\n",
    "\n",
    "X.reset_index(drop=True, inplace=True)\n",
    "y.reset_index(drop=True, inplace=True)\n",
    "\n",
    "efs_time.reset_index(drop=True, inplace=True)\n",
    "race_group.reset_index(drop=True, inplace=True)"
   ]
  },
  {
   "cell_type": "code",
   "execution_count": 11,
   "metadata": {},
   "outputs": [
    {
     "data": {
      "image/png": "[encoded data removed]",
      "text/plain": [
       "<Figure size 640x480 with 1 Axes>"
      ]
     },
     "metadata": {},
     "output_type": "display_data"
    }
   ],
   "source": [
    "sns.histplot(x=efs_time[y.index], hue=y, bins=100)\n",
    "plt.show()"
   ]
  },
  {
   "cell_type": "markdown",
   "metadata": {},
   "source": [
    "### LGBM"
   ]
  },
  {
   "cell_type": "code",
   "execution_count": 12,
   "metadata": {},
   "outputs": [
    {
     "name": "stderr",
     "output_type": "stream",
     "text": [
      "100%|██████████| 5/5 [00:01<00:00,  3.05it/s]"
     ]
    },
    {
     "name": "stdout",
     "output_type": "stream",
     "text": [
      "CV Score: 0.6292\n"
     ]
    },
    {
     "name": "stderr",
     "output_type": "stream",
     "text": [
      "\n"
     ]
    }
   ],
   "source": [
    "model = LGBMRegressor(random_state=RANDOM_STATE, verbose=-1)\n",
    "cv_score = cross_validate(model, X, y, cv=5)\n",
    "\n",
    "print(f'CV Score: {cv_score:.4f}')"
   ]
  },
  {
   "cell_type": "markdown",
   "metadata": {},
   "source": [
    "### LGBM With efs_time"
   ]
  },
  {
   "cell_type": "code",
   "execution_count": 13,
   "metadata": {},
   "outputs": [],
   "source": [
    "from sklearn.metrics import mean_absolute_error"
   ]
  },
  {
   "cell_type": "code",
   "execution_count": 14,
   "metadata": {},
   "outputs": [],
   "source": [
    "def cross_validate_efs_time(model, X, efs_time, cv=10, scale=False):\n",
    "    cv_scores = []\n",
    "\n",
    "    for i in tqdm(range(cv)):\n",
    "        test_idxs = list(range(int((len(X)*(i)/cv)), int((len(X)*(i+1)/cv))))\n",
    "        \n",
    "        X_train = X.drop(index=test_idxs)\n",
    "        y_train = efs_time.drop(index=test_idxs)\n",
    "        \n",
    "        X_test = X.iloc[test_idxs]\n",
    "        y_test = efs_time.iloc[test_idxs]\n",
    "        \n",
    "        if scale:\n",
    "            scaler = StandardScaler()\n",
    "            X_train = scaler.fit_transform(X_train)\n",
    "            X_test = scaler.transform(X_test)\n",
    "        \n",
    "        model_copy = clone(model)\n",
    "        \n",
    "        model_copy.fit(X_train, y_train)\n",
    "        y_pred = model_copy.predict(X_test)\n",
    "        \n",
    "        cv_scores.append(mean_absolute_error(y_test, y_pred))\n",
    "    \n",
    "    return np.mean(cv_scores)"
   ]
  },
  {
   "cell_type": "code",
   "execution_count": 15,
   "metadata": {},
   "outputs": [
    {
     "name": "stderr",
     "output_type": "stream",
     "text": [
      "100%|██████████| 5/5 [00:01<00:00,  3.30it/s]"
     ]
    },
    {
     "name": "stdout",
     "output_type": "stream",
     "text": [
      "CV Score: 16.2992\n"
     ]
    },
    {
     "name": "stderr",
     "output_type": "stream",
     "text": [
      "\n"
     ]
    }
   ],
   "source": [
    "model = LGBMRegressor(random_state=RANDOM_STATE, verbose=-1)\n",
    "cv_score = cross_validate_efs_time(model, X, efs_time, cv=5)\n",
    "\n",
    "print(f'CV Score: {cv_score:.4f}')"
   ]
  },
  {
   "cell_type": "markdown",
   "metadata": {},
   "source": [
    "### LGBM Combining efs and efs_time"
   ]
  },
  {
   "cell_type": "code",
   "execution_count": 16,
   "metadata": {},
   "outputs": [],
   "source": [
    "def cross_validate_combined(model_efs, model_efs_time, X, y, efs_time, cv=10, scale=False):\n",
    "    cv_scores = []\n",
    "    \n",
    "    for i in tqdm(range(cv)):\n",
    "        test_idxs = list(range(int((len(X)*(i)/cv)), int((len(X)*(i+1)/cv))))\n",
    "        \n",
    "        X_train = X.drop(index=test_idxs)\n",
    "        y_train = y.drop(index=test_idxs)\n",
    "        efs_time_train = efs_time.drop(index=test_idxs)\n",
    "        \n",
    "        X_test = X.iloc[test_idxs]\n",
    "        y_test = y.iloc[test_idxs]\n",
    "        efs_time_test = efs_time.iloc[test_idxs]\n",
    "        \n",
    "        if scale:\n",
    "            scaler = StandardScaler()\n",
    "            X_train = scaler.fit_transform(X_train)\n",
    "            X_test = scaler.transform(X_test)\n",
    "        \n",
    "        model_efs_copy = clone(model_efs)\n",
    "        model_efs_time_copy = clone(model_efs_time)\n",
    "        \n",
    "        model_efs_time_copy.fit(X_train, efs_time_train)\n",
    "        efs_time_pred = model_efs_time_copy.predict(X_test)\n",
    "        \n",
    "        X_train = pd.concat([X_train, efs_time_train], axis=1)\n",
    "        X_test = pd.concat([X_test, pd.Series(cv_score)], axis=1)\n",
    "        \n",
    "        model_efs_copy.fit(X_train, y_train)\n",
    "        y_pred = model_efs_copy.predict(X_test)\n",
    "        \n",
    "        cv_scores.append(score_wrapper(\n",
    "            y_test, \n",
    "            y_pred, \n",
    "            efs_time.iloc[test_idxs], \n",
    "            race_group.iloc[test_idxs]\n",
    "        ))\n",
    "    \n",
    "    return np.mean(cv_scores)\n",
    "        "
   ]
  },
  {
   "cell_type": "code",
   "execution_count": 17,
   "metadata": {},
   "outputs": [
    {
     "name": "stderr",
     "output_type": "stream",
     "text": [
      "100%|██████████| 5/5 [00:03<00:00,  1.61it/s]"
     ]
    },
    {
     "name": "stdout",
     "output_type": "stream",
     "text": [
      "CV Score: 0.4753\n"
     ]
    },
    {
     "name": "stderr",
     "output_type": "stream",
     "text": [
      "\n"
     ]
    }
   ],
   "source": [
    "model_efs = LGBMRegressor(random_state=RANDOM_STATE, verbose=-1)\n",
    "model_efs_time = LGBMRegressor(random_state=RANDOM_STATE, verbose=-1)\n",
    "\n",
    "cv_score = cross_validate_combined(model_efs, model_efs_time, X, y, efs_time, cv=5)\n",
    "\n",
    "print(f'CV Score: {cv_score:.4f}')"
   ]
  },
  {
   "cell_type": "code",
   "execution_count": null,
   "metadata": {},
   "outputs": [],
   "source": []
  },
  {
   "cell_type": "code",
   "execution_count": null,
   "metadata": {},
   "outputs": [],
   "source": []
  },
  {
   "cell_type": "code",
   "execution_count": null,
   "metadata": {},
   "outputs": [],
   "source": []
  },
  {
   "cell_type": "code",
   "execution_count": null,
   "metadata": {},
   "outputs": [],
   "source": []
  },
  {
   "cell_type": "code",
   "execution_count": 18,
   "metadata": {},
   "outputs": [
    {
     "name": "stdout",
     "output_type": "stream",
     "text": [
      "Execution time: 7.16 seconds\n"
     ]
    }
   ],
   "source": [
    "end_time = time.time()\n",
    "print(f'Execution time: {end_time - start_time:.2f} seconds')"
   ]
  },
  {
   "cell_type": "code",
   "execution_count": null,
   "metadata": {},
   "outputs": [],
   "source": []
  }
 ],
 "metadata": {
  "kernelspec": {
   "display_name": "pyenv3-10",
   "language": "python",
   "name": "python3"
  },
  "language_info": {
   "codemirror_mode": {
    "name": "ipython",
    "version": 3
   },
   "file_extension": ".py",
   "mimetype": "text/x-python",
   "name": "python",
   "nbconvert_exporter": "python",
   "pygments_lexer": "ipython3",
   "version": "3.10.15"
  }
 },
 "nbformat": 4,
 "nbformat_minor": 2
}
