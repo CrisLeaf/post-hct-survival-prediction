{
 "cells": [
  {
   "cell_type": "markdown",
   "metadata": {},
   "source": [
    "# Imports"
   ]
  },
  {
   "cell_type": "code",
   "execution_count": 1,
   "metadata": {},
   "outputs": [
    {
     "name": "stderr",
     "output_type": "stream",
     "text": [
      "/Users/cris/Documents/Projects/post-hct-survival-prediction/pyenv3-10/lib/python3.10/site-packages/tqdm/auto.py:21: TqdmWarning: IProgress not found. Please update jupyter and ipywidgets. See https://ipywidgets.readthedocs.io/en/stable/user_install.html\n",
      "  from .autonotebook import tqdm as notebook_tqdm\n"
     ]
    }
   ],
   "source": [
    "import numpy as np\n",
    "import pandas as pd\n",
    "import matplotlib.pyplot as plt\n",
    "import seaborn as sns\n",
    "\n",
    "pd.set_option('display.max_columns', None)\n",
    "sns.set_style('whitegrid')\n",
    "sns.set_palette('muted')\n",
    "\n",
    "from datetime import datetime\n",
    "\n",
    "from tqdm import tqdm\n",
    "\n",
    "from sklearn.base import clone\n",
    "\n",
    "from sklearn.preprocessing import StandardScaler\n",
    "from sklearn.pipeline import Pipeline\n",
    "\n",
    "from sklearn.linear_model import LinearRegression\n",
    "from sklearn.ensemble import RandomForestRegressor\n",
    "from xgboost import XGBRegressor\n",
    "from lightgbm import LGBMRegressor\n",
    "\n",
    "import optuna\n",
    "\n",
    "import warnings\n",
    "warnings.simplefilter(action='ignore', category=FutureWarning)"
   ]
  },
  {
   "cell_type": "code",
   "execution_count": 2,
   "metadata": {},
   "outputs": [],
   "source": [
    "DATA_PATH = '../data/equity-post-HCT-survival-predictions/'\n",
    "RANDOM_STATE = 54321"
   ]
  },
  {
   "cell_type": "markdown",
   "metadata": {},
   "source": [
    "# Data"
   ]
  },
  {
   "cell_type": "code",
   "execution_count": 3,
   "metadata": {},
   "outputs": [],
   "source": [
    "sample_df = pd.read_csv(DATA_PATH + 'sample_submission.csv')\n",
    "test_df = pd.read_csv(DATA_PATH + 'test.csv')"
   ]
  },
  {
   "cell_type": "code",
   "execution_count": 4,
   "metadata": {},
   "outputs": [],
   "source": [
    "X = pd.read_pickle(DATA_PATH + 'train_test_split/X_25-12-2024.pkl')\n",
    "y = pd.read_pickle(DATA_PATH + 'train_test_split/y_25-12-2024.pkl')\n",
    "efs_time = pd.read_pickle(DATA_PATH + 'train_test_split/efs_time_25-12-2024.pkl')\n",
    "race_group = pd.read_pickle(DATA_PATH + 'train_test_split/race_group_25-12-2024.pkl')"
   ]
  },
  {
   "cell_type": "code",
   "execution_count": 5,
   "metadata": {},
   "outputs": [
    {
     "name": "stdout",
     "output_type": "stream",
     "text": [
      "(28800, 81) (28800,) (28800,) (28800,)\n"
     ]
    }
   ],
   "source": [
    "print(X.shape, y.shape, efs_time.shape, race_group.shape)"
   ]
  },
  {
   "cell_type": "markdown",
   "metadata": {},
   "source": [
    "## Métric"
   ]
  },
  {
   "cell_type": "code",
   "execution_count": 6,
   "metadata": {},
   "outputs": [],
   "source": [
    "import pandas as pd\n",
    "import pandas.api.types\n",
    "import numpy as np\n",
    "from lifelines.utils import concordance_index\n",
    "\n",
    "class ParticipantVisibleError(Exception):\n",
    "    pass\n",
    "\n",
    "\n",
    "def score(solution: pd.DataFrame, submission: pd.DataFrame, row_id_column_name: str) -> float:\n",
    "    \"\"\"\n",
    "    >>> import pandas as pd\n",
    "    >>> row_id_column_name = \"id\"\n",
    "    >>> y_pred = {'prediction': {0: 1.0, 1: 0.0, 2: 1.0}}\n",
    "    >>> y_pred = pd.DataFrame(y_pred)\n",
    "    >>> y_pred.insert(0, row_id_column_name, range(len(y_pred)))\n",
    "    >>> y_true = { 'efs': {0: 1.0, 1: 0.0, 2: 0.0}, 'efs_time': {0: 25.1234,1: 250.1234,2: 2500.1234}, 'race_group': {0: 'race_group_1', 1: 'race_group_1', 2: 'race_group_1'}}\n",
    "    >>> y_true = pd.DataFrame(y_true)\n",
    "    >>> y_true.insert(0, row_id_column_name, range(len(y_true)))\n",
    "    >>> score(y_true.copy(), y_pred.copy(), row_id_column_name)\n",
    "    0.75\n",
    "    \"\"\"\n",
    "    \n",
    "    del solution[row_id_column_name]\n",
    "    del submission[row_id_column_name]\n",
    "    \n",
    "    event_label = 'efs'\n",
    "    interval_label = 'efs_time'\n",
    "    prediction_label = 'prediction'\n",
    "    for col in submission.columns:\n",
    "        if not pandas.api.types.is_numeric_dtype(submission[col]):\n",
    "            raise ParticipantVisibleError(f'Submission column {col} must be a number')\n",
    "    # Merging solution and submission dfs on ID\n",
    "    merged_df = pd.concat([solution, submission], axis=1)\n",
    "    merged_df.reset_index(inplace=True)\n",
    "    merged_df_race_dict = dict(merged_df.groupby(['race_group']).groups)\n",
    "    metric_list = []\n",
    "    for race in merged_df_race_dict.keys():\n",
    "        # Retrieving values from y_test based on index\n",
    "        indices = sorted(merged_df_race_dict[race])\n",
    "        merged_df_race = merged_df.iloc[indices]\n",
    "        # Calculate the concordance index\n",
    "        c_index_race = concordance_index(\n",
    "                        merged_df_race[interval_label],\n",
    "                        -merged_df_race[prediction_label],\n",
    "                        merged_df_race[event_label])\n",
    "        metric_list.append(c_index_race)\n",
    "    return float(np.mean(metric_list)-np.sqrt(np.var(metric_list)))"
   ]
  },
  {
   "cell_type": "code",
   "execution_count": 7,
   "metadata": {},
   "outputs": [],
   "source": [
    "def score_wrapper(y_true, y_pred, efs_time, race_group):\n",
    "    y_pred_dict = {\n",
    "        'prediction': {i: pred for i, pred in enumerate(y_pred)}\n",
    "    }        \n",
    "    y_pred_dict = pd.DataFrame(y_pred_dict)\n",
    "    y_pred_dict.insert(0, 'id', range(len(y_pred_dict)))\n",
    "    \n",
    "    y_true_dict = {\n",
    "        'efs': {i: y for i, y in enumerate(y_true.values)},\n",
    "        'efs_time': {i: t for i, t in enumerate(efs_time.values)},\n",
    "        'race_group': {i: r for i, r in enumerate(race_group.values)},\n",
    "    }\n",
    "    y_true_dict = pd.DataFrame(y_true_dict)\n",
    "    y_true_dict.insert(0, 'id', range(len(y_true_dict)))\n",
    "    \n",
    "    return score(y_true_dict.copy(), y_pred_dict.copy(), 'id')\n",
    "\n",
    "def cross_validate(model, X, y, cv=10, scale=False):\n",
    "    cv_scores = []\n",
    "    \n",
    "    for i in range(cv):\n",
    "        test_idxs = list(range(int((len(X)*(i)/cv)), int((len(X)*(i+1)/cv))))\n",
    "        \n",
    "        X_train = X.drop(index=test_idxs)\n",
    "        y_train = y.drop(index=test_idxs)\n",
    "        \n",
    "        X_test = X.iloc[test_idxs]\n",
    "        y_test = y.iloc[test_idxs]\n",
    "        \n",
    "        if scale:\n",
    "            scaler = StandardScaler()\n",
    "            X_train = scaler.fit_transform(X_train)\n",
    "            X_test = scaler.transform(X_test)\n",
    "        \n",
    "        model_copy = clone(model)\n",
    "        \n",
    "        model_copy.fit(X_train, y_train)\n",
    "        y_pred = model_copy.predict(X_test)\n",
    "        \n",
    "        cv_scores.append(score_wrapper(\n",
    "            y_test, \n",
    "            y_pred, \n",
    "            efs_time.iloc[test_idxs], \n",
    "            race_group.iloc[test_idxs]\n",
    "        ))\n",
    "    \n",
    "    return np.mean(cv_scores)"
   ]
  },
  {
   "cell_type": "code",
   "execution_count": 8,
   "metadata": {},
   "outputs": [],
   "source": [
    "X = X.dropna()\n",
    "y = y[X.index].copy()\n",
    "\n",
    "X.reset_index(drop=True, inplace=True)\n",
    "y.reset_index(drop=True, inplace=True)"
   ]
  },
  {
   "cell_type": "code",
   "execution_count": 9,
   "metadata": {},
   "outputs": [
    {
     "name": "stdout",
     "output_type": "stream",
     "text": [
      "(19280, 81) (19280,)\n"
     ]
    }
   ],
   "source": [
    "print(X.shape, y.shape)"
   ]
  },
  {
   "cell_type": "markdown",
   "metadata": {},
   "source": [
    "# Linear Regression"
   ]
  },
  {
   "cell_type": "code",
   "execution_count": 10,
   "metadata": {},
   "outputs": [],
   "source": [
    "def objective(trial):\n",
    "    fit_intercept = trial.suggest_categorical('fit_intercept', [True, False])\n",
    "    use_scaler = trial.suggest_categorical('use_scaler', [True, False])\n",
    "    \n",
    "    steps = []\n",
    "    \n",
    "    if use_scaler:\n",
    "        steps.append(('scaler', StandardScaler()))\n",
    "    \n",
    "    steps.append(('regressor', LinearRegression(fit_intercept=fit_intercept)))\n",
    "    \n",
    "    model = Pipeline(steps)\n",
    "    \n",
    "    cv_score = cross_validate(model, X, y, cv=5, scale=True)\n",
    "    \n",
    "    return cv_score"
   ]
  },
  {
   "cell_type": "code",
   "execution_count": 11,
   "metadata": {},
   "outputs": [
    {
     "name": "stderr",
     "output_type": "stream",
     "text": [
      "[I 2024-12-28 17:28:28,942] A new study created in memory with name: no-name-6cd7bdcd-f542-4911-9cba-073eef87e3a6\n",
      "[I 2024-12-28 17:28:29,143] Trial 0 finished with value: 0.5776564314806606 and parameters: {'fit_intercept': True, 'use_scaler': False}. Best is trial 0 with value: 0.5776564314806606.\n",
      "[I 2024-12-28 17:28:29,338] Trial 1 finished with value: 0.5776564314806606 and parameters: {'fit_intercept': False, 'use_scaler': False}. Best is trial 0 with value: 0.5776564314806606.\n"
     ]
    }
   ],
   "source": [
    "study = optuna.create_study(direction='maximize')\n",
    "study.optimize(objective, n_trials=100)"
   ]
  },
  {
   "cell_type": "code",
   "execution_count": 12,
   "metadata": {},
   "outputs": [
    {
     "data": {
      "text/plain": [
       "{'fit_intercept': True, 'use_scaler': False}"
      ]
     },
     "execution_count": 12,
     "metadata": {},
     "output_type": "execute_result"
    }
   ],
   "source": [
    "study.best_params"
   ]
  },
  {
   "cell_type": "markdown",
   "metadata": {},
   "source": [
    "# Random Forest"
   ]
  },
  {
   "cell_type": "code",
   "execution_count": 13,
   "metadata": {},
   "outputs": [],
   "source": [
    "def objective(trial):\n",
    "    n_estimators = trial.suggest_int('n_estimators', 10, 2_000)\n",
    "    max_depth = trial.suggest_int('max_depth', 2, 50)\n",
    "    min_samples_split = trial.suggest_int('min_samples_split', 2, 200)\n",
    "    min_samples_leaf = trial.suggest_int('min_samples_leaf', 1, 100)\n",
    "    max_features = trial.suggest_categorical('max_features', ['sqrt', 'log2'])\n",
    "    bootstrap = trial.suggest_categorical('bootstrap', [True, False])\n",
    "    \n",
    "    model = RandomForestRegressor(\n",
    "        n_estimators=n_estimators,\n",
    "        max_depth=max_depth,\n",
    "        min_samples_split=min_samples_split,\n",
    "        min_samples_leaf=min_samples_leaf,\n",
    "        max_features=max_features,\n",
    "        bootstrap=bootstrap,\n",
    "        random_state=RANDOM_STATE,\n",
    "    )\n",
    "    \n",
    "    cv_score = cross_validate(model, X, y, cv=5, scale=True)\n",
    "    \n",
    "    return cv_score"
   ]
  },
  {
   "cell_type": "code",
   "execution_count": 14,
   "metadata": {},
   "outputs": [
    {
     "name": "stderr",
     "output_type": "stream",
     "text": [
      "[I 2024-12-28 17:28:29,351] A new study created in memory with name: no-name-bed6fbb8-5f7a-4124-bd84-e0622ee34254\n",
      "[I 2024-12-28 17:29:09,728] Trial 0 finished with value: 0.5826598732021501 and parameters: {'n_estimators': 974, 'max_depth': 13, 'min_samples_split': 22, 'min_samples_leaf': 51, 'max_features': 'sqrt', 'bootstrap': False}. Best is trial 0 with value: 0.5826598732021501.\n",
      "[I 2024-12-28 17:29:50,750] Trial 1 finished with value: 0.5821276392491364 and parameters: {'n_estimators': 1427, 'max_depth': 30, 'min_samples_split': 131, 'min_samples_leaf': 40, 'max_features': 'sqrt', 'bootstrap': True}. Best is trial 0 with value: 0.5826598732021501.\n"
     ]
    }
   ],
   "source": [
    "study = optuna.create_study(direction='maximize')\n",
    "study.optimize(objective, n_trials=50)"
   ]
  },
  {
   "cell_type": "code",
   "execution_count": 15,
   "metadata": {},
   "outputs": [
    {
     "data": {
      "text/plain": [
       "{'n_estimators': 974,\n",
       " 'max_depth': 13,\n",
       " 'min_samples_split': 22,\n",
       " 'min_samples_leaf': 51,\n",
       " 'max_features': 'sqrt',\n",
       " 'bootstrap': False}"
      ]
     },
     "execution_count": 15,
     "metadata": {},
     "output_type": "execute_result"
    }
   ],
   "source": [
    "study.best_params"
   ]
  },
  {
   "cell_type": "markdown",
   "metadata": {},
   "source": [
    "# XGBoost"
   ]
  },
  {
   "cell_type": "code",
   "execution_count": 16,
   "metadata": {},
   "outputs": [],
   "source": [
    "def objective(trial):\n",
    "    n_estimators = trial.suggest_int('n_estimators', 10, 2_000)\n",
    "    max_depth = trial.suggest_int('max_depth', 2, 50)\n",
    "    learning_rate = trial.suggest_float('learning_rate', 1e-5, 1e-1, log=True)\n",
    "    min_child_weight = trial.suggest_int('min_child_weight', 1, 10)\n",
    "    subsample = trial.suggest_float('subsample', 0.5, 1.0)\n",
    "    colsample_bytree = trial.suggest_float('colsample_bytree', 0.5, 1.0)\n",
    "    gamma = trial.suggest_float('gamma', 0, 10)\n",
    "    reg_alpha = trial.suggest_float('reg_alpha', 1e-5, 1e1, log=True)\n",
    "    reg_lambda = trial.suggest_float('reg_lambda', 1e-5, 1e1, log=True)\n",
    "\n",
    "    model = XGBRegressor(\n",
    "        n_estimators=n_estimators,\n",
    "        max_depth=max_depth,\n",
    "        learning_rate=learning_rate,\n",
    "        min_child_weight=min_child_weight,\n",
    "        subsample=subsample,\n",
    "        colsample_bytree=colsample_bytree,\n",
    "        gamma=gamma,\n",
    "        reg_alpha=reg_alpha,\n",
    "        reg_lambda=reg_lambda,\n",
    "        random_state=RANDOM_STATE,\n",
    "    )\n",
    "    \n",
    "    cv_score = cross_validate(model, X, y, cv=5, scale=True)\n",
    "    \n",
    "    return cv_score"
   ]
  },
  {
   "cell_type": "code",
   "execution_count": 17,
   "metadata": {},
   "outputs": [
    {
     "name": "stderr",
     "output_type": "stream",
     "text": [
      "[I 2024-12-28 17:29:50,762] A new study created in memory with name: no-name-c623a406-4a74-4cef-a20a-dd61431c34f6\n",
      "[I 2024-12-28 17:29:56,029] Trial 0 finished with value: 0.5752432221139643 and parameters: {'n_estimators': 805, 'max_depth': 24, 'learning_rate': 7.753605377641606e-05, 'min_child_weight': 9, 'subsample': 0.5793133301050022, 'colsample_bytree': 0.8181374083038078, 'gamma': 3.4805308536162527, 'reg_alpha': 0.3409014620447248, 'reg_lambda': 0.4771370774554879}. Best is trial 0 with value: 0.5752432221139643.\n",
      "[I 2024-12-28 17:29:58,804] Trial 1 finished with value: 0.5772937036241247 and parameters: {'n_estimators': 878, 'max_depth': 23, 'learning_rate': 0.00485688458147218, 'min_child_weight': 3, 'subsample': 0.9791245218003174, 'colsample_bytree': 0.6263345573622661, 'gamma': 8.421442000091034, 'reg_alpha': 7.011450556354446, 'reg_lambda': 0.3225828228593451}. Best is trial 1 with value: 0.5772937036241247.\n"
     ]
    }
   ],
   "source": [
    "study = optuna.create_study(direction='maximize')\n",
    "study.optimize(objective, n_trials=200)"
   ]
  },
  {
   "cell_type": "code",
   "execution_count": 18,
   "metadata": {},
   "outputs": [
    {
     "data": {
      "text/plain": [
       "{'n_estimators': 878,\n",
       " 'max_depth': 23,\n",
       " 'learning_rate': 0.00485688458147218,\n",
       " 'min_child_weight': 3,\n",
       " 'subsample': 0.9791245218003174,\n",
       " 'colsample_bytree': 0.6263345573622661,\n",
       " 'gamma': 8.421442000091034,\n",
       " 'reg_alpha': 7.011450556354446,\n",
       " 'reg_lambda': 0.3225828228593451}"
      ]
     },
     "execution_count": 18,
     "metadata": {},
     "output_type": "execute_result"
    }
   ],
   "source": [
    "study.best_params"
   ]
  },
  {
   "cell_type": "markdown",
   "metadata": {},
   "source": [
    "# LGBMReg"
   ]
  },
  {
   "cell_type": "code",
   "execution_count": 19,
   "metadata": {},
   "outputs": [],
   "source": [
    "def objective(trial):\n",
    "    n_estimators = trial.suggest_int('n_estimators', 10, 2_000)\n",
    "    max_depth = trial.suggest_int('max_depth', 2, 50)\n",
    "    learning_rate = trial.suggest_float('learning_rate', 1e-5, 1e-1, log=True)\n",
    "    num_leaves = trial.suggest_int('num_leaves', 20, 200)\n",
    "    min_child_samples = trial.suggest_int('min_child_samples', 5, 100)\n",
    "    subsample = trial.suggest_float('subsample', 0.5, 1.0)\n",
    "    colsample_bytree = trial.suggest_float('colsample_bytree', 0.5, 1.0)\n",
    "    reg_alpha = trial.suggest_float('reg_alpha', 1e-5, 1e1, log=True)\n",
    "    reg_lambda = trial.suggest_float('reg_lambda', 1e-5, 1e1, log=True)\n",
    "\n",
    "    model = LGBMRegressor(\n",
    "        n_estimators=n_estimators,\n",
    "        max_depth=max_depth,\n",
    "        learning_rate=learning_rate,\n",
    "        num_leaves=num_leaves,\n",
    "        min_child_samples=min_child_samples,\n",
    "        subsample=subsample,\n",
    "        colsample_bytree=colsample_bytree,\n",
    "        reg_alpha=reg_alpha,\n",
    "        reg_lambda=reg_lambda,\n",
    "        random_state=RANDOM_STATE,\n",
    "        verbose=-1,\n",
    "    )\n",
    "    \n",
    "    cv_score = cross_validate(model, X, y, cv=5, scale=True)\n",
    "    \n",
    "    return cv_score"
   ]
  },
  {
   "cell_type": "code",
   "execution_count": 20,
   "metadata": {},
   "outputs": [
    {
     "name": "stderr",
     "output_type": "stream",
     "text": [
      "[I 2024-12-28 17:29:58,817] A new study created in memory with name: no-name-84d91ac9-542b-499a-9427-2ea4e46b1ae5\n",
      "[I 2024-12-28 17:30:05,333] Trial 0 finished with value: 0.5733731746261619 and parameters: {'n_estimators': 1035, 'max_depth': 4, 'learning_rate': 0.0003768724256125172, 'num_leaves': 177, 'min_child_samples': 34, 'subsample': 0.8655383886726912, 'colsample_bytree': 0.7202293110869937, 'reg_alpha': 0.00014608611264611463, 'reg_lambda': 0.02469946132207104}. Best is trial 0 with value: 0.5733731746261619.\n",
      "[I 2024-12-28 17:30:26,824] Trial 1 finished with value: 0.5829969046526566 and parameters: {'n_estimators': 492, 'max_depth': 21, 'learning_rate': 0.000505402544611678, 'num_leaves': 99, 'min_child_samples': 10, 'subsample': 0.6099702180241707, 'colsample_bytree': 0.7044962249004738, 'reg_alpha': 0.029051793632351084, 'reg_lambda': 0.07869082942752609}. Best is trial 1 with value: 0.5829969046526566.\n"
     ]
    }
   ],
   "source": [
    "study = optuna.create_study(direction='maximize')\n",
    "study.optimize(objective, n_trials=100)"
   ]
  },
  {
   "cell_type": "code",
   "execution_count": 21,
   "metadata": {},
   "outputs": [
    {
     "data": {
      "text/plain": [
       "{'n_estimators': 492,\n",
       " 'max_depth': 21,\n",
       " 'learning_rate': 0.000505402544611678,\n",
       " 'num_leaves': 99,\n",
       " 'min_child_samples': 10,\n",
       " 'subsample': 0.6099702180241707,\n",
       " 'colsample_bytree': 0.7044962249004738,\n",
       " 'reg_alpha': 0.029051793632351084,\n",
       " 'reg_lambda': 0.07869082942752609}"
      ]
     },
     "execution_count": 21,
     "metadata": {},
     "output_type": "execute_result"
    }
   ],
   "source": [
    "study.best_params"
   ]
  },
  {
   "cell_type": "code",
   "execution_count": null,
   "metadata": {},
   "outputs": [],
   "source": []
  },
  {
   "cell_type": "code",
   "execution_count": null,
   "metadata": {},
   "outputs": [],
   "source": []
  },
  {
   "cell_type": "code",
   "execution_count": null,
   "metadata": {},
   "outputs": [],
   "source": []
  }
 ],
 "metadata": {
  "kernelspec": {
   "display_name": "pyenv3-10",
   "language": "python",
   "name": "python3"
  },
  "language_info": {
   "codemirror_mode": {
    "name": "ipython",
    "version": 3
   },
   "file_extension": ".py",
   "mimetype": "text/x-python",
   "name": "python",
   "nbconvert_exporter": "python",
   "pygments_lexer": "ipython3",
   "version": "3.10.15"
  }
 },
 "nbformat": 4,
 "nbformat_minor": 2
}
