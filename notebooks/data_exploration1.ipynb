{
 "cells": [
  {
   "cell_type": "markdown",
   "metadata": {},
   "source": [
    "# Imports"
   ]
  },
  {
   "cell_type": "code",
   "execution_count": 1,
   "metadata": {},
   "outputs": [],
   "source": [
    "import numpy as np\n",
    "import pandas as pd\n",
    "import matplotlib.pyplot as plt\n",
    "import seaborn as sns\n",
    "\n",
    "pd.set_option('display.max_columns', None)\n",
    "sns.set_style('whitegrid')\n",
    "sns.set_palette('muted')"
   ]
  },
  {
   "cell_type": "code",
   "execution_count": 2,
   "metadata": {},
   "outputs": [],
   "source": [
    "DATA_PATH = '../data/equity-post-HCT-survival-predictions/'"
   ]
  },
  {
   "cell_type": "markdown",
   "metadata": {},
   "source": [
    "# EDA"
   ]
  },
  {
   "cell_type": "code",
   "execution_count": 3,
   "metadata": {},
   "outputs": [],
   "source": [
    "train_df = pd.read_csv(DATA_PATH + '/train.csv')"
   ]
  },
  {
   "cell_type": "code",
   "execution_count": 4,
   "metadata": {},
   "outputs": [
    {
     "name": "stdout",
     "output_type": "stream",
     "text": [
      "<class 'pandas.core.frame.DataFrame'>\n",
      "RangeIndex: 28800 entries, 0 to 28799\n",
      "Data columns (total 60 columns):\n",
      " #   Column                  Non-Null Count  Dtype  \n",
      "---  ------                  --------------  -----  \n",
      " 0   ID                      28800 non-null  int64  \n",
      " 1   dri_score               28646 non-null  object \n",
      " 2   psych_disturb           26738 non-null  object \n",
      " 3   cyto_score              20732 non-null  object \n",
      " 4   diabetes                26681 non-null  object \n",
      " 5   hla_match_c_high        24180 non-null  float64\n",
      " 6   hla_high_res_8          22971 non-null  float64\n",
      " 7   tbi_status              28800 non-null  object \n",
      " 8   arrhythmia              26598 non-null  object \n",
      " 9   hla_low_res_6           25530 non-null  float64\n",
      " 10  graft_type              28800 non-null  object \n",
      " 11  vent_hist               28541 non-null  object \n",
      " 12  renal_issue             26885 non-null  object \n",
      " 13  pulm_severe             26665 non-null  object \n",
      " 14  prim_disease_hct        28800 non-null  object \n",
      " 15  hla_high_res_6          23516 non-null  float64\n",
      " 16  cmv_status              28166 non-null  object \n",
      " 17  hla_high_res_10         21637 non-null  float64\n",
      " 18  hla_match_dqb1_high     23601 non-null  float64\n",
      " 19  tce_imm_match           17667 non-null  object \n",
      " 20  hla_nmdp_6              24603 non-null  float64\n",
      " 21  hla_match_c_low         26000 non-null  float64\n",
      " 22  rituximab               26652 non-null  object \n",
      " 23  hla_match_drb1_low      26157 non-null  float64\n",
      " 24  hla_match_dqb1_low      24606 non-null  float64\n",
      " 25  prod_type               28800 non-null  object \n",
      " 26  cyto_score_detail       16877 non-null  object \n",
      " 27  conditioning_intensity  24011 non-null  object \n",
      " 28  ethnicity               28213 non-null  object \n",
      " 29  year_hct                28800 non-null  int64  \n",
      " 30  obesity                 27040 non-null  object \n",
      " 31  mrd_hct                 12203 non-null  object \n",
      " 32  in_vivo_tcd             28575 non-null  object \n",
      " 33  tce_match               9804 non-null   object \n",
      " 34  hla_match_a_high        24499 non-null  float64\n",
      " 35  hepatic_severe          26929 non-null  object \n",
      " 36  donor_age               26992 non-null  float64\n",
      " 37  prior_tumor             27122 non-null  object \n",
      " 38  hla_match_b_low         26235 non-null  float64\n",
      " 39  peptic_ulcer            26381 non-null  object \n",
      " 40  age_at_hct              28800 non-null  float64\n",
      " 41  hla_match_a_low         26410 non-null  float64\n",
      " 42  gvhd_proph              28575 non-null  object \n",
      " 43  rheum_issue             26617 non-null  object \n",
      " 44  sex_match               28539 non-null  object \n",
      " 45  hla_match_b_high        24712 non-null  float64\n",
      " 46  race_group              28800 non-null  object \n",
      " 47  comorbidity_score       28323 non-null  float64\n",
      " 48  karnofsky_score         27930 non-null  float64\n",
      " 49  hepatic_mild            26883 non-null  object \n",
      " 50  tce_div_match           17404 non-null  object \n",
      " 51  donor_related           28642 non-null  object \n",
      " 52  melphalan_dose          27395 non-null  object \n",
      " 53  hla_low_res_8           25147 non-null  float64\n",
      " 54  cardiac                 26258 non-null  object \n",
      " 55  hla_match_drb1_high     25448 non-null  float64\n",
      " 56  pulm_moderate           26753 non-null  object \n",
      " 57  hla_low_res_10          23736 non-null  float64\n",
      " 58  efs                     28800 non-null  float64\n",
      " 59  efs_time                28800 non-null  float64\n",
      "dtypes: float64(23), int64(2), object(35)\n",
      "memory usage: 13.2+ MB\n"
     ]
    }
   ],
   "source": [
    "train_df.info()"
   ]
  },
  {
   "cell_type": "code",
   "execution_count": 5,
   "metadata": {},
   "outputs": [
    {
     "data": {
      "text/plain": [
       "tbi_status\n",
       "No TBI                              18861\n",
       "TBI + Cy +- Other                    6104\n",
       "TBI +- Other, <=cGy                  1727\n",
       "TBI +- Other, >cGy                   1700\n",
       "TBI +- Other, -cGy, single            134\n",
       "TBI +- Other, -cGy, fractionated      119\n",
       "TBI +- Other, -cGy, unknown dose       79\n",
       "TBI +- Other, unknown dose             76\n",
       "Name: count, dtype: int64"
      ]
     },
     "execution_count": 5,
     "metadata": {},
     "output_type": "execute_result"
    }
   ],
   "source": [
    "train_df['tbi_status'].value_counts()"
   ]
  },
  {
   "cell_type": "code",
   "execution_count": null,
   "metadata": {},
   "outputs": [],
   "source": []
  },
  {
   "cell_type": "markdown",
   "metadata": {},
   "source": [
    "# Preprocess Data"
   ]
  },
  {
   "cell_type": "code",
   "execution_count": null,
   "metadata": {},
   "outputs": [],
   "source": [
    "X = train_df[[\n",
    "    'year_hct', 'race_group', \n",
    "    'hla_match_c_high',\n",
    "    'hla_high_res_8',\n",
    "    'hla_low_res_6',\n",
    "    'hla_high_res_6',\n",
    "    'hla_high_res_10',\n",
    "    'hla_match_dqb1_high',\n",
    "    'hla_nmdp_6',\n",
    "    'hla_match_c_low',\n",
    "    'hla_match_drb1_low',\n",
    "    'hla_match_dqb1_low',\n",
    "    'hla_match_a_high',\n",
    "    'donor_age',\n",
    "    'hla_match_b_low',\n",
    "    'age_at_hct',\n",
    "    'hla_match_a_low',\n",
    "    'hla_match_b_high',\n",
    "    'comorbidity_score',\n",
    "    'karnofsky_score',\n",
    "    'hla_low_res_8',\n",
    "    'hla_match_drb1_high',\n",
    "    'hla_low_res_10',\n",
    "]].copy()\n",
    "\n",
    "y = train_df['efs'].copy()"
   ]
  },
  {
   "cell_type": "code",
   "execution_count": 7,
   "metadata": {},
   "outputs": [],
   "source": [
    "race_group_categorical = pd.get_dummies(X['race_group'], dtype=int, prefix='race_group')\n",
    "X.drop(columns=['race_group'], inplace=True)\n",
    "\n",
    "X = pd.concat([X, race_group_categorical], axis=1)"
   ]
  },
  {
   "cell_type": "markdown",
   "metadata": {},
   "source": [
    "# Save Data"
   ]
  },
  {
   "cell_type": "code",
   "execution_count": 8,
   "metadata": {},
   "outputs": [],
   "source": [
    "X.to_pickle(DATA_PATH + 'X_15-12-24.pkl')\n",
    "y.to_pickle(DATA_PATH + 'y_15-12-24.pkl')\n",
    "\n",
    "train_df['efs_time'].to_pickle(DATA_PATH + 'efs_time_15-12-24.pkl')\n",
    "train_df['race_group'].to_pickle(DATA_PATH + 'race_group_15-12-24.pkl')"
   ]
  },
  {
   "cell_type": "code",
   "execution_count": null,
   "metadata": {},
   "outputs": [],
   "source": []
  }
 ],
 "metadata": {
  "kernelspec": {
   "display_name": "pyenv3-10",
   "language": "python",
   "name": "python3"
  },
  "language_info": {
   "codemirror_mode": {
    "name": "ipython",
    "version": 3
   },
   "file_extension": ".py",
   "mimetype": "text/x-python",
   "name": "python",
   "nbconvert_exporter": "python",
   "pygments_lexer": "ipython3",
   "version": "3.10.15"
  }
 },
 "nbformat": 4,
 "nbformat_minor": 2
}
