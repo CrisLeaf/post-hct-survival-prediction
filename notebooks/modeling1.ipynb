{
 "cells": [
  {
   "cell_type": "markdown",
   "metadata": {},
   "source": [
    "# Imports"
   ]
  },
  {
   "cell_type": "code",
   "execution_count": 1,
   "metadata": {},
   "outputs": [],
   "source": [
    "import numpy as np\n",
    "import pandas as pd\n",
    "import matplotlib.pyplot as plt\n",
    "import seaborn as sns\n",
    "\n",
    "pd.set_option('display.max_columns', None)\n",
    "sns.set_style('whitegrid')\n",
    "sns.set_palette('muted')\n",
    "\n",
    "from datetime import datetime\n",
    "\n",
    "from tqdm import tqdm\n",
    "\n",
    "from sklearn.base import clone\n",
    "\n",
    "from sklearn.preprocessing import StandardScaler\n",
    "from sklearn.pipeline import Pipeline\n",
    "\n",
    "from sklearn.linear_model import LinearRegression\n",
    "from sklearn.ensemble import RandomForestRegressor\n",
    "from xgboost import XGBRegressor\n",
    "from lightgbm import LGBMRegressor"
   ]
  },
  {
   "cell_type": "code",
   "execution_count": 2,
   "metadata": {},
   "outputs": [],
   "source": [
    "DATA_PATH = '../data/equity-post-HCT-survival-predictions/'\n",
    "RANDOM_STATE = 54321"
   ]
  },
  {
   "cell_type": "markdown",
   "metadata": {},
   "source": [
    "## Data"
   ]
  },
  {
   "cell_type": "code",
   "execution_count": 3,
   "metadata": {},
   "outputs": [],
   "source": [
    "sample_df = pd.read_csv(DATA_PATH + 'sample_submission.csv')\n",
    "test_df = pd.read_csv(DATA_PATH + 'test.csv')"
   ]
  },
  {
   "cell_type": "code",
   "execution_count": 4,
   "metadata": {},
   "outputs": [],
   "source": [
    "X = pd.read_pickle(DATA_PATH + 'train_test_split/X_25-12-2024.pkl')\n",
    "y = pd.read_pickle(DATA_PATH + 'train_test_split/y_25-12-2024.pkl')\n",
    "efs_time = pd.read_pickle(DATA_PATH + 'train_test_split/efs_time_25-12-2024.pkl')\n",
    "race_group = pd.read_pickle(DATA_PATH + 'train_test_split/race_group_25-12-2024.pkl')"
   ]
  },
  {
   "cell_type": "code",
   "execution_count": 5,
   "metadata": {},
   "outputs": [
    {
     "name": "stdout",
     "output_type": "stream",
     "text": [
      "(28800, 81) (28800,) (28800,) (28800,)\n"
     ]
    }
   ],
   "source": [
    "print(X.shape, y.shape, efs_time.shape, race_group.shape)"
   ]
  },
  {
   "cell_type": "markdown",
   "metadata": {},
   "source": [
    "# Modeling"
   ]
  },
  {
   "cell_type": "markdown",
   "metadata": {},
   "source": [
    "## Metric"
   ]
  },
  {
   "cell_type": "code",
   "execution_count": 6,
   "metadata": {},
   "outputs": [],
   "source": [
    "import pandas as pd\n",
    "import pandas.api.types\n",
    "import numpy as np\n",
    "from lifelines.utils import concordance_index\n",
    "\n",
    "class ParticipantVisibleError(Exception):\n",
    "    pass\n",
    "\n",
    "\n",
    "def score(solution: pd.DataFrame, submission: pd.DataFrame, row_id_column_name: str) -> float:\n",
    "    \"\"\"\n",
    "    >>> import pandas as pd\n",
    "    >>> row_id_column_name = \"id\"\n",
    "    >>> y_pred = {'prediction': {0: 1.0, 1: 0.0, 2: 1.0}}\n",
    "    >>> y_pred = pd.DataFrame(y_pred)\n",
    "    >>> y_pred.insert(0, row_id_column_name, range(len(y_pred)))\n",
    "    >>> y_true = { 'efs': {0: 1.0, 1: 0.0, 2: 0.0}, 'efs_time': {0: 25.1234,1: 250.1234,2: 2500.1234}, 'race_group': {0: 'race_group_1', 1: 'race_group_1', 2: 'race_group_1'}}\n",
    "    >>> y_true = pd.DataFrame(y_true)\n",
    "    >>> y_true.insert(0, row_id_column_name, range(len(y_true)))\n",
    "    >>> score(y_true.copy(), y_pred.copy(), row_id_column_name)\n",
    "    0.75\n",
    "    \"\"\"\n",
    "    \n",
    "    del solution[row_id_column_name]\n",
    "    del submission[row_id_column_name]\n",
    "    \n",
    "    event_label = 'efs'\n",
    "    interval_label = 'efs_time'\n",
    "    prediction_label = 'prediction'\n",
    "    for col in submission.columns:\n",
    "        if not pandas.api.types.is_numeric_dtype(submission[col]):\n",
    "            raise ParticipantVisibleError(f'Submission column {col} must be a number')\n",
    "    # Merging solution and submission dfs on ID\n",
    "    merged_df = pd.concat([solution, submission], axis=1)\n",
    "    merged_df.reset_index(inplace=True)\n",
    "    merged_df_race_dict = dict(merged_df.groupby(['race_group']).groups)\n",
    "    metric_list = []\n",
    "    for race in merged_df_race_dict.keys():\n",
    "        # Retrieving values from y_test based on index\n",
    "        indices = sorted(merged_df_race_dict[race])\n",
    "        merged_df_race = merged_df.iloc[indices]\n",
    "        # Calculate the concordance index\n",
    "        c_index_race = concordance_index(\n",
    "                        merged_df_race[interval_label],\n",
    "                        -merged_df_race[prediction_label],\n",
    "                        merged_df_race[event_label])\n",
    "        metric_list.append(c_index_race)\n",
    "    return float(np.mean(metric_list)-np.sqrt(np.var(metric_list)))"
   ]
  },
  {
   "cell_type": "code",
   "execution_count": 7,
   "metadata": {},
   "outputs": [],
   "source": [
    "def score_wrapper(y_true, y_pred, efs_time, race_group):\n",
    "    y_pred_dict = {\n",
    "        'prediction': {i: pred for i, pred in enumerate(y_pred)}\n",
    "    }        \n",
    "    y_pred_dict = pd.DataFrame(y_pred_dict)\n",
    "    y_pred_dict.insert(0, 'id', range(len(y_pred_dict)))\n",
    "    \n",
    "    y_true_dict = {\n",
    "        'efs': {i: y for i, y in enumerate(y_true.values)},\n",
    "        'efs_time': {i: t for i, t in enumerate(efs_time.values)},\n",
    "        'race_group': {i: r for i, r in enumerate(race_group.values)},\n",
    "    }\n",
    "    y_true_dict = pd.DataFrame(y_true_dict)\n",
    "    y_true_dict.insert(0, 'id', range(len(y_true_dict)))\n",
    "    \n",
    "    return score(y_true_dict.copy(), y_pred_dict.copy(), 'id')\n",
    "\n",
    "def cross_validate(model, X, y, cv=10, scale=False):\n",
    "    cv_scores = []\n",
    "    \n",
    "    for i in tqdm(range(cv)):\n",
    "        test_idxs = list(range(int((len(X)*(i)/cv)), int((len(X)*(i+1)/cv))))\n",
    "        \n",
    "        X_train = X.drop(index=test_idxs)\n",
    "        y_train = y.drop(index=test_idxs)\n",
    "        \n",
    "        X_test = X.iloc[test_idxs]\n",
    "        y_test = y.iloc[test_idxs]\n",
    "        \n",
    "        if scale:\n",
    "            scaler = StandardScaler()\n",
    "            X_train = scaler.fit_transform(X_train)\n",
    "            X_test = scaler.transform(X_test)\n",
    "        \n",
    "        model_copy = clone(model)\n",
    "        \n",
    "        model_copy.fit(X_train, y_train)\n",
    "        y_pred = model_copy.predict(X_test)\n",
    "        \n",
    "        cv_scores.append(score_wrapper(\n",
    "            y_test, \n",
    "            y_pred, \n",
    "            efs_time.iloc[test_idxs], \n",
    "            race_group.iloc[test_idxs]\n",
    "        ))\n",
    "    \n",
    "    return np.mean(cv_scores)"
   ]
  },
  {
   "cell_type": "markdown",
   "metadata": {},
   "source": [
    "## Scikit learn model"
   ]
  },
  {
   "cell_type": "markdown",
   "metadata": {},
   "source": [
    "Best CVs:\n",
    "- numeric: 0.5901\n",
    "- numeric + dri_score: 0.6023\n",
    "- numeric + dri_score + psych_disturb: 0.6033\n",
    "- numeric + dri_score + psych_disturb + cyto_score: 0.6067\n",
    "- numeric + dri_score + psych_disturb + cyto_score + diabetes: 0.6069\n",
    "- numeric + dri_score + psych_disturb + cyto_score + diabetes + tbi_status: 0.6075\n",
    "- numeric + dri_score + psych_disturb + cyto_score + diabetes + tbi_status + arrhythmia: 0.6074\n",
    "- numeric + dri_score + psych_disturb + cyto_score + diabetes + tbi_status + arrhythmia + graft_type: 0.6104\n",
    "- numeric + dri_score + psych_disturb + cyto_score + diabetes + tbi_status + arrhythmia + graft_type + vent_hist: 0.6109\n",
    "- numeric + dri_score + psych_disturb + cyto_score + diabetes + tbi_status + arrhythmia + graft_type + vent_hist + renal_issue: 0.6104\n",
    "- numeric + dri_score + psych_disturb + cyto_score + diabetes + tbi_status + arrhythmia + graft_type + vent_hist + renal_issue + pulm_severe: 0.6122\n",
    "- numeric + dri_score + psych_disturb + cyto_score + diabetes + tbi_status + arrhythmia + graft_type + vent_hist + renal_issue + pulm_severe + prim_disease_hct: 0.6151\n",
    "- numeric + dri_score + psych_disturb + cyto_score + diabetes + tbi_status + arrhythmia + graft_type + vent_hist + renal_issue + pulm_severe + prim_disease_hct + cmv_status: 0.6162\n",
    "- numeric + dri_score + psych_disturb + cyto_score + diabetes + tbi_status + arrhythmia + graft_type + vent_hist + renal_issue + pulm_severe + prim_disease_hct + cmv_status + tce_imm_match: 0.6172\n",
    "- numeric + dri_score + psych_disturb + cyto_score + diabetes + tbi_status + arrhythmia + graft_type + vent_hist + renal_issue + pulm_severe + prim_disease_hct + cmv_status + tce_imm_match + rituximab: 0.6167\n",
    "- numeric + dri_score + psych_disturb + cyto_score + diabetes + tbi_status + arrhythmia + graft_type + vent_hist + renal_issue + pulm_severe + prim_disease_hct + cmv_status + tce_imm_match + rituximab + prod_type: 0.6177\n",
    "- numeric + dri_score + psych_disturb + cyto_score + diabetes + tbi_status + arrhythmia + graft_type + vent_hist + renal_issue + pulm_severe + prim_disease_hct + cmv_status + tce_imm_match + rituximab + prod_type + cyto_score_detail: 0.6194\n",
    "- numeric + dri_score + psych_disturb + cyto_score + diabetes + tbi_status + arrhythmia + graft_type + vent_hist + renal_issue + pulm_severe + prim_disease_hct + cmv_status + tce_imm_match + rituximab + prod_type + cyto_score_detail + conditioning_intensity: 0.6240\n",
    "- numeric + dri_score + psych_disturb + cyto_score + diabetes + tbi_status + arrhythmia + graft_type + vent_hist + renal_issue + pulm_severe + prim_disease_hct + cmv_status + tce_imm_match + rituximab + prod_type + cyto_score_detail + conditioning_intensity + ethnicity: 0.6230\n",
    "- numeric + dri_score + psych_disturb + cyto_score + diabetes + tbi_status + arrhythmia + graft_type + vent_hist + renal_issue + pulm_severe + prim_disease_hct + cmv_status + tce_imm_match + rituximab + prod_type + cyto_score_detail + conditioning_intensity + ethnicity + obesity: 0.6229\n",
    "- numeric + dri_score + psych_disturb + cyto_score + diabetes + tbi_status + arrhythmia + graft_type + vent_hist + renal_issue + pulm_severe + prim_disease_hct + cmv_status + tce_imm_match + rituximab + prod_type + cyto_score_detail + conditioning_intensity + ethnicity + obesity + mrd_hct: 0.6237\n",
    "- numeric + dri_score + psych_disturb + cyto_score + diabetes + tbi_status + arrhythmia + graft_type + vent_hist + renal_issue + pulm_severe + prim_disease_hct + cmv_status + tce_imm_match + rituximab + prod_type + cyto_score_detail + conditioning_intensity + ethnicity + obesity + mrd_hct + in_vivo_tcd: 0.6225\n",
    "- numeric + dri_score + psych_disturb + cyto_score + diabetes + tbi_status + arrhythmia + graft_type + vent_hist + renal_issue + pulm_severe + prim_disease_hct + cmv_status + tce_imm_match + rituximab + prod_type + cyto_score_detail + conditioning_intensity + ethnicity + obesity + mrd_hct + in_vivo_tcd + tce_match: 0.6223\n",
    "- numeric + dri_score + psych_disturb + cyto_score + diabetes + tbi_status + arrhythmia + graft_type + vent_hist + renal_issue + pulm_severe + prim_disease_hct + cmv_status + tce_imm_match + rituximab + prod_type + cyto_score_detail + conditioning_intensity + ethnicity + obesity + mrd_hct + in_vivo_tcd + tce_match + hepatic_severe: 0.6228\n",
    "- numeric + dri_score + psych_disturb + cyto_score + diabetes + tbi_status + arrhythmia + graft_type + vent_hist + renal_issue + pulm_severe + prim_disease_hct + cmv_status + tce_imm_match + rituximab + prod_type + cyto_score_detail + conditioning_intensity + ethnicity + obesity + mrd_hct + in_vivo_tcd + tce_match + hepatic_severe + prior_tumor: 0.6238\n",
    "- numeric + dri_score + psych_disturb + cyto_score + diabetes + tbi_status + arrhythmia + graft_type + vent_hist + renal_issue + pulm_severe + prim_disease_hct + cmv_status + tce_imm_match + rituximab + prod_type + cyto_score_detail + conditioning_intensity + ethnicity + obesity + mrd_hct + in_vivo_tcd + tce_match + hepatic_severe + prior_tumor + peptic_ulcer: 0.6237\n",
    "- numeric + dri_score + psych_disturb + cyto_score + diabetes + tbi_status + arrhythmia + graft_type + vent_hist + renal_issue + pulm_severe + prim_disease_hct + cmv_status + tce_imm_match + rituximab + prod_type + cyto_score_detail + conditioning_intensity + ethnicity + obesity + mrd_hct + in_vivo_tcd + tce_match + hepatic_severe + prior_tumor + peptic_ulcer + gvhd_proph: 0.6226\n",
    "- numeric + dri_score + psych_disturb + cyto_score + diabetes + tbi_status + arrhythmia + graft_type + vent_hist + renal_issue + pulm_severe + prim_disease_hct + cmv_status + tce_imm_match + rituximab + prod_type + cyto_score_detail + conditioning_intensity + ethnicity + obesity + mrd_hct + in_vivo_tcd + tce_match + hepatic_severe + prior_tumor + peptic_ulcer + gvhd_proph + rheum_issue: 0.6222\n",
    "- numeric + dri_score + psych_disturb + cyto_score + diabetes + tbi_status + arrhythmia + graft_type + vent_hist + renal_issue + pulm_severe + prim_disease_hct + cmv_status + tce_imm_match + rituximab + prod_type + cyto_score_detail + conditioning_intensity + ethnicity + obesity + mrd_hct + in_vivo_tcd + tce_match + hepatic_severe + prior_tumor + peptic_ulcer + gvhd_proph + rheum_issue + sex_match: 0.6266\n",
    "- numeric + dri_score + psych_disturb + cyto_score + diabetes + tbi_status + arrhythmia + graft_type + vent_hist + renal_issue + pulm_severe + prim_disease_hct + cmv_status + tce_imm_match + rituximab + prod_type + cyto_score_detail + conditioning_intensity + ethnicity + obesity + mrd_hct + in_vivo_tcd + tce_match + hepatic_severe + prior_tumor + peptic_ulcer + gvhd_proph + rheum_issue + sex_match + hepatic_mild: 0.6269\n",
    "- numeric + dri_score + psych_disturb + cyto_score + diabetes + tbi_status + arrhythmia + graft_type + vent_hist + renal_issue + pulm_severe + prim_disease_hct + cmv_status + tce_imm_match + rituximab + prod_type + cyto_score_detail + conditioning_intensity + ethnicity + obesity + mrd_hct + in_vivo_tcd + tce_match + hepatic_severe + prior_tumor + peptic_ulcer + gvhd_proph + rheum_issue + sex_match + hepatic_mild + tce_div_match: 0.6271\n",
    "- numeric + dri_score + psych_disturb + cyto_score + diabetes + tbi_status + arrhythmia + graft_type + vent_hist + renal_issue + pulm_severe + prim_disease_hct + cmv_status + tce_imm_match + rituximab + prod_type + cyto_score_detail + conditioning_intensity + ethnicity + obesity + mrd_hct + in_vivo_tcd + tce_match + hepatic_severe + prior_tumor + peptic_ulcer + gvhd_proph + rheum_issue + sex_match + hepatic_mild + tce_div_match + donor_related: 0.6275\n",
    "- numeric + dri_score + psych_disturb + cyto_score + diabetes + tbi_status + arrhythmia + graft_type + vent_hist + renal_issue + pulm_severe + prim_disease_hct + cmv_status + tce_imm_match + rituximab + prod_type + cyto_score_detail + conditioning_intensity + ethnicity + obesity + mrd_hct + in_vivo_tcd + tce_match + hepatic_severe + prior_tumor + peptic_ulcer + gvhd_proph + rheum_issue + sex_match + hepatic_mild + tce_div_match + donor_related + melphalan_dose: 0.6269\n",
    "- numeric + dri_score + psych_disturb + cyto_score + diabetes + tbi_status + arrhythmia + graft_type + vent_hist + renal_issue + pulm_severe + prim_disease_hct + cmv_status + tce_imm_match + rituximab + prod_type + cyto_score_detail + conditioning_intensity + ethnicity + obesity + mrd_hct + in_vivo_tcd + tce_match + hepatic_severe + prior_tumor + peptic_ulcer + gvhd_proph + rheum_issue + sex_match + hepatic_mild + tce_div_match + donor_related + melphalan_dose + cardiac: 0.6287\n",
    "- numeric + dri_score + psych_disturb + cyto_score + diabetes + tbi_status + arrhythmia + graft_type + vent_hist + renal_issue + pulm_severe + prim_disease_hct + cmv_status + tce_imm_match + rituximab + prod_type + cyto_score_detail + conditioning_intensity + ethnicity + obesity + mrd_hct + in_vivo_tcd + tce_match + hepatic_severe + prior_tumor + peptic_ulcer + gvhd_proph + rheum_issue + sex_match + hepatic_mild + tce_div_match + donor_related + melphalan_dose + cardiac + pulm_moderate: 0.6280\n",
    "\n",
    "\n",
    "\n",
    "\n"
   ]
  },
  {
   "cell_type": "code",
   "execution_count": 8,
   "metadata": {},
   "outputs": [],
   "source": [
    "X = X.dropna()\n",
    "y = y[X.index].copy()\n",
    "\n",
    "X.reset_index(drop=True, inplace=True)\n",
    "y.reset_index(drop=True, inplace=True)"
   ]
  },
  {
   "cell_type": "code",
   "execution_count": 9,
   "metadata": {},
   "outputs": [
    {
     "name": "stdout",
     "output_type": "stream",
     "text": [
      "(19280, 81) (19280,)\n"
     ]
    }
   ],
   "source": [
    "print(X.shape, y.shape)"
   ]
  },
  {
   "cell_type": "markdown",
   "metadata": {},
   "source": [
    "- Linear Regression"
   ]
  },
  {
   "cell_type": "code",
   "execution_count": 10,
   "metadata": {},
   "outputs": [],
   "source": [
    "# linreg = LinearRegression()\n",
    "# cv_score = cross_validate(linreg, X, y, cv=5, scale=True)\n",
    "# print(f'CV Score: {cv_score:.4f}')"
   ]
  },
  {
   "cell_type": "markdown",
   "metadata": {},
   "source": [
    "cv: 0.5777"
   ]
  },
  {
   "cell_type": "markdown",
   "metadata": {},
   "source": [
    "- Random Forest"
   ]
  },
  {
   "cell_type": "code",
   "execution_count": 11,
   "metadata": {},
   "outputs": [],
   "source": [
    "# rfreg = RandomForestRegressor(random_state=RANDOM_STATE)\n",
    "# cv_score = cross_validate(rfreg, X, y, cv=5)\n",
    "# print(f'CV Score: {cv_score:.4f}')"
   ]
  },
  {
   "cell_type": "markdown",
   "metadata": {},
   "source": [
    "cv: 0.5789"
   ]
  },
  {
   "cell_type": "markdown",
   "metadata": {},
   "source": [
    "- XGBoost"
   ]
  },
  {
   "cell_type": "code",
   "execution_count": 12,
   "metadata": {},
   "outputs": [],
   "source": [
    "# xgbreg = XGBRegressor(random_state=RANDOM_STATE)\n",
    "# cv_score = cross_validate(xgbreg, X, y, cv=5)\n",
    "# print(f'CV Score: {cv_score:.4f}')"
   ]
  },
  {
   "cell_type": "markdown",
   "metadata": {},
   "source": [
    "0.5759"
   ]
  },
  {
   "cell_type": "markdown",
   "metadata": {},
   "source": [
    "- LightGBM"
   ]
  },
  {
   "cell_type": "code",
   "execution_count": 13,
   "metadata": {},
   "outputs": [],
   "source": [
    "# lgbmreg = LGBMRegressor(verbose=-1, random_state=RANDOM_STATE)\n",
    "# cv_score = cross_validate(lgbmreg, X, y, cv=5)\n",
    "# print(f'CV Score: {cv_score:.4f}')"
   ]
  },
  {
   "cell_type": "markdown",
   "metadata": {},
   "source": [
    "0.5862"
   ]
  },
  {
   "cell_type": "markdown",
   "metadata": {},
   "source": [
    "- Voting Regressor"
   ]
  },
  {
   "cell_type": "code",
   "execution_count": 14,
   "metadata": {},
   "outputs": [],
   "source": [
    "from sklearn.base import BaseEstimator, RegressorMixin\n",
    "\n",
    "class VotingRegressor(BaseEstimator, RegressorMixin):\n",
    "    def __init__(self, estimators, weights=None):\n",
    "        self.estimators = estimators\n",
    "        self.weights = weights if weights else np.ones(len(estimators)) / len(estimators)\n",
    "    \n",
    "    def fit(self, X, y):\n",
    "        self.models_ = []\n",
    "        for name, model in self.estimators:\n",
    "            model.fit(X, y)\n",
    "            self.models_.append((name, model))\n",
    "        return self\n",
    "    \n",
    "    def predict(self, X):\n",
    "        predictions = np.array([model.predict(X) for _, model in self.models_])\n",
    "        return np.average(predictions, axis=0, weights=self.weights)\n",
    "\n",
    "estimators = [\n",
    "    ('linreg', Pipeline([\n",
    "        # ('scaler', StandardScaler()), \n",
    "        ('linreg', LinearRegression(**{'fit_intercept': False}))\n",
    "    ])),\n",
    "    ('rfreg', RandomForestRegressor(**{\n",
    "        'n_estimators': 214,\n",
    "        'max_depth': 22,\n",
    "        'min_samples_split': 7,\n",
    "        'min_samples_leaf': 1,\n",
    "        'max_features': 'sqrt',\n",
    "        'bootstrap': True,\n",
    "        'random_state': RANDOM_STATE,\n",
    "    })),\n",
    "    ('xgbreg', XGBRegressor(**{\n",
    "        'n_estimators': 1951,\n",
    "        'max_depth': 2,\n",
    "        'learning_rate': 0.026214891441095647,\n",
    "        'min_child_weight': 2,\n",
    "        'subsample': 0.5161925118818808,\n",
    "        'colsample_bytree': 0.8799771355893139,\n",
    "        'gamma': 0.6079832570503964,\n",
    "        'reg_alpha': 0.0005737571071016235,\n",
    "        'reg_lambda': 0.0277732573625255,\n",
    "        'random_state': RANDOM_STATE\n",
    "    })),\n",
    "    ('lgbmreg', LGBMRegressor(**{\n",
    "        'n_estimators': 976,\n",
    "        'max_depth': 2,\n",
    "        'learning_rate': 0.07642404569065746,\n",
    "        'num_leaves': 113,\n",
    "        'min_child_samples': 74,\n",
    "        'subsample': 0.7080421704267752,\n",
    "        'colsample_bytree': 0.6623639577905086,\n",
    "        'reg_alpha': 0.007141897055432138,\n",
    "        'reg_lambda': 0.013485715695541321,\n",
    "        'random_state': RANDOM_STATE,\n",
    "        'verbose': -1,\n",
    "    }))\n",
    "]"
   ]
  },
  {
   "cell_type": "code",
   "execution_count": 15,
   "metadata": {},
   "outputs": [
    {
     "name": "stderr",
     "output_type": "stream",
     "text": [
      "100%|██████████| 5/5 [00:19<00:00,  3.88s/it]"
     ]
    },
    {
     "name": "stdout",
     "output_type": "stream",
     "text": [
      "CV Score: 0.5915\n"
     ]
    },
    {
     "name": "stderr",
     "output_type": "stream",
     "text": [
      "\n"
     ]
    }
   ],
   "source": [
    "voting = VotingRegressor(estimators=estimators, weights=[1, 1, 1, 1])\n",
    "cv_score = cross_validate(voting, X, y, cv=5)\n",
    "print(f'CV Score: {cv_score:.4f}')"
   ]
  },
  {
   "cell_type": "code",
   "execution_count": null,
   "metadata": {},
   "outputs": [],
   "source": []
  }
 ],
 "metadata": {
  "kernelspec": {
   "display_name": "pyenv3-10",
   "language": "python",
   "name": "python3"
  },
  "language_info": {
   "codemirror_mode": {
    "name": "ipython",
    "version": 3
   },
   "file_extension": ".py",
   "mimetype": "text/x-python",
   "name": "python",
   "nbconvert_exporter": "python",
   "pygments_lexer": "ipython3",
   "version": "3.10.15"
  }
 },
 "nbformat": 4,
 "nbformat_minor": 2
}
