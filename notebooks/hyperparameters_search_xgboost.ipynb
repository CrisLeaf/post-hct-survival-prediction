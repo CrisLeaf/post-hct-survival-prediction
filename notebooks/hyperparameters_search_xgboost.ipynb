{
 "cells": [
  {
   "cell_type": "markdown",
   "metadata": {},
   "source": [
    "# Imports"
   ]
  },
  {
   "cell_type": "code",
   "execution_count": 1,
   "metadata": {},
   "outputs": [
    {
     "name": "stderr",
     "output_type": "stream",
     "text": [
      "/Users/cris/Documents/Projects/post-hct-survival-prediction/pyenv3-10/lib/python3.10/site-packages/tqdm/auto.py:21: TqdmWarning: IProgress not found. Please update jupyter and ipywidgets. See https://ipywidgets.readthedocs.io/en/stable/user_install.html\n",
      "  from .autonotebook import tqdm as notebook_tqdm\n"
     ]
    }
   ],
   "source": [
    "import numpy as np\n",
    "import pandas as pd\n",
    "import matplotlib.pyplot as plt\n",
    "import seaborn as sns\n",
    "\n",
    "pd.set_option('display.max_columns', None)\n",
    "sns.set_style('whitegrid')\n",
    "sns.set_palette('muted')\n",
    "\n",
    "import optuna\n",
    "\n",
    "from sklearn.base import clone\n",
    "\n",
    "from sklearn.model_selection import KFold\n",
    "from lifelines.utils import concordance_index\n",
    "import xgboost as xgb"
   ]
  },
  {
   "cell_type": "code",
   "execution_count": 2,
   "metadata": {},
   "outputs": [],
   "source": [
    "DATA_PATH = '../data/equity-post-HCT-survival-predictions/'\n",
    "RANDOM_STATE = 54321"
   ]
  },
  {
   "cell_type": "markdown",
   "metadata": {},
   "source": [
    "# Data"
   ]
  },
  {
   "cell_type": "code",
   "execution_count": 3,
   "metadata": {},
   "outputs": [],
   "source": [
    "X = pd.read_pickle(DATA_PATH + 'train_test_split/X_25-12-2024.pkl')\n",
    "y = pd.read_pickle(DATA_PATH + 'train_test_split/y_25-12-2024.pkl')\n",
    "efs_time = pd.read_pickle(DATA_PATH + 'train_test_split/efs_time_25-12-2024.pkl')\n",
    "race_group = pd.read_pickle(DATA_PATH + 'train_test_split/race_group_25-12-2024.pkl')"
   ]
  },
  {
   "cell_type": "code",
   "execution_count": 4,
   "metadata": {},
   "outputs": [],
   "source": [
    "for col in X.columns:\n",
    "    X[col] = X[col].ffill().bfill()"
   ]
  },
  {
   "cell_type": "code",
   "execution_count": 5,
   "metadata": {},
   "outputs": [],
   "source": [
    "X_cph = X[[\n",
    "    'hla_match_c_high',\n",
    "    'hla_high_res_8',\n",
    "    'hla_low_res_6',\n",
    "    # 'hla_high_res_6',\n",
    "    'hla_high_res_10',\n",
    "    # 'hla_match_dqb1_high',\n",
    "    'hla_nmdp_6',\n",
    "    'hla_match_c_low',\n",
    "    'hla_match_drb1_low',\n",
    "    'hla_match_dqb1_low',\n",
    "    'year_hct',\n",
    "    'hla_match_a_high',\n",
    "    'donor_age',\n",
    "    'hla_match_b_low',\n",
    "    'age_at_hct',\n",
    "    # 'hla_match_a_low',\n",
    "    'hla_match_b_high',\n",
    "    'comorbidity_score',\n",
    "    'karnofsky_score',\n",
    "    # 'hla_low_res_8',\n",
    "    # 'hla_match_drb1_high',\n",
    "    # 'hla_low_res_10',\n",
    "    'dri_score',\n",
    "    'psych_disturb',\n",
    "    'cyto_score',\n",
    "    'diabetes',\n",
    "    'tbi_status',\n",
    "    'arrhythmia',\n",
    "    'graft_type',\n",
    "    'vent_hist',\n",
    "    'renal_issue',\n",
    "    'pulm_severe',\n",
    "    'cmv_status',\n",
    "    'tce_imm_match',\n",
    "    'rituximab',\n",
    "    'prod_type',\n",
    "    'cyto_score_detail',\n",
    "    'conditioning_intensity',\n",
    "    'obesity',\n",
    "    'mrd_hct',\n",
    "    'in_vivo_tcd',\n",
    "    'tce_match',\n",
    "    'hepatic_severe',\n",
    "    'prior_tumor',\n",
    "    'peptic_ulcer',\n",
    "    'gvhd_proph',\n",
    "    'rheum_issue',\n",
    "    'sex_match',\n",
    "    'hepatic_mild',\n",
    "    'tce_div_match',\n",
    "    'donor_related',\n",
    "    'melphalan_dose',\n",
    "    'cardiac',\n",
    "    'pulm_moderate',\n",
    "    'prim_disease_hct_AI',\n",
    "    'prim_disease_hct_ALL',\n",
    "    'prim_disease_hct_AML',\n",
    "    'prim_disease_hct_CML',\n",
    "    'prim_disease_hct_HD',\n",
    "    'prim_disease_hct_HIS',\n",
    "    'prim_disease_hct_IEA',\n",
    "    'prim_disease_hct_IIS',\n",
    "    'prim_disease_hct_IMD',\n",
    "    'prim_disease_hct_IPA',\n",
    "    'prim_disease_hct_MDS',\n",
    "    'prim_disease_hct_MPN',\n",
    "    'prim_disease_hct_NHL',\n",
    "    'prim_disease_hct_Other acute leukemia',\n",
    "    'prim_disease_hct_Other leukemia',\n",
    "    'prim_disease_hct_PCD',\n",
    "    'prim_disease_hct_SAA',\n",
    "    # 'prim_disease_hct_Solid tumor',\n",
    "    'ethnicity_Hispanic or Latino',\n",
    "    'ethnicity_Non-resident of the U.S.',\n",
    "    'ethnicity_Not Hispanic or Latino',\n",
    "    'race_group_American Indian or Alaska Native',\n",
    "    'race_group_Asian',\n",
    "    'race_group_Black or African-American',\n",
    "    'race_group_More than one race',\n",
    "    'race_group_Native Hawaiian or other Pacific Islander',\n",
    "    # 'race_group_White',\n",
    "]]"
   ]
  },
  {
   "cell_type": "code",
   "execution_count": 6,
   "metadata": {},
   "outputs": [],
   "source": [
    "dtrain = xgb.DMatrix(X_cph, label=efs_time)\n",
    "dtrain.set_weight(y)"
   ]
  },
  {
   "cell_type": "markdown",
   "metadata": {},
   "source": [
    "## Metric"
   ]
  },
  {
   "cell_type": "code",
   "execution_count": 7,
   "metadata": {},
   "outputs": [],
   "source": [
    "def cross_validate_xgboost_survival(params, X, efs, efs_time, cv=5):\n",
    "    kf = KFold(n_splits=cv, shuffle=True, random_state=RANDOM_STATE)\n",
    "    c_index_scores = []\n",
    "    \n",
    "    for train_index, test_index in kf.split(X):\n",
    "        X_train, X_test = X.iloc[train_index], X.iloc[test_index]\n",
    "        efs_time_train, efs_time_test = efs_time.iloc[train_index], efs_time.iloc[test_index]\n",
    "        efs_train, efs_test = efs.iloc[train_index], efs.iloc[test_index]\n",
    "        \n",
    "        dtrain = xgb.DMatrix(X_train, label=efs_time_train)\n",
    "        dtrain.set_weight(efs_train)\n",
    "        dtest = xgb.DMatrix(X_test, label=efs_time_test)\n",
    "        dtest.set_weight(efs_test)\n",
    "        \n",
    "        model = xgb.train(params, dtrain)\n",
    "        \n",
    "        pred_risks = model.predict(dtest)\n",
    "        \n",
    "        c_index = concordance_index(\n",
    "            efs_time_test,\n",
    "            -pred_risks,\n",
    "            event_observed=efs_test\n",
    "        )\n",
    "        \n",
    "        c_index_scores.append(c_index)\n",
    "    \n",
    "    return np.mean(c_index_scores)"
   ]
  },
  {
   "cell_type": "markdown",
   "metadata": {},
   "source": [
    "# Search"
   ]
  },
  {
   "cell_type": "code",
   "execution_count": 8,
   "metadata": {},
   "outputs": [],
   "source": [
    "efs = pd.Series(y, name='efs')\n",
    "\n",
    "def objective(trial):\n",
    "    params = {\n",
    "        'objective': 'survival:cox',\n",
    "        'eval_metric': 'cox-nloglik',\n",
    "        'eta': trial.suggest_float('eta', 0.0001, 0.3),\n",
    "        'max_depth': trial.suggest_int('max_depth', 3, 100),\n",
    "        'subsample': trial.suggest_float('subsample', 0.5, 1.0),\n",
    "        'colsample_bytree': trial.suggest_float('colsample_bytree', 0.5, 1.0),\n",
    "        # 'lambda_': trial.suggest_float('lambda', 0.0, 1.0)\n",
    "    }\n",
    "    \n",
    "    cv_index = cross_validate_xgboost_survival(\n",
    "        params, X, efs, efs_time, cv=5\n",
    "    )\n",
    "    \n",
    "    return round(cv_index, 4)"
   ]
  },
  {
   "cell_type": "code",
   "execution_count": 9,
   "metadata": {},
   "outputs": [],
   "source": [
    "params = {'eta': 0.05884790339411519, 'max_depth': 50, 'subsample': 0.9909449377442469, 'colsample_bytree': 0.513728660762146}"
   ]
  },
  {
   "cell_type": "code",
   "execution_count": null,
   "metadata": {},
   "outputs": [],
   "source": []
  },
  {
   "cell_type": "code",
   "execution_count": 10,
   "metadata": {},
   "outputs": [
    {
     "name": "stderr",
     "output_type": "stream",
     "text": [
      "[I 2025-01-15 21:26:43,087] A new study created in memory with name: no-name-8330b77b-b4da-4632-874a-3faa66cc9f61\n",
      "[I 2025-01-15 21:26:43,634] Trial 0 finished with value: 0.5464 and parameters: {'eta': 0.06242337880404521, 'max_depth': 86, 'subsample': 0.5604799580596477, 'colsample_bytree': 0.6075622665574724}. Best is trial 0 with value: 0.5464.\n",
      "[I 2025-01-15 21:26:44,082] Trial 1 finished with value: 0.5417 and parameters: {'eta': 0.18913644588960707, 'max_depth': 10, 'subsample': 0.5874985401239307, 'colsample_bytree': 0.9063893598494692}. Best is trial 0 with value: 0.5464.\n",
      "[I 2025-01-15 21:26:44,591] Trial 2 finished with value: 0.5463 and parameters: {'eta': 0.15469880571717626, 'max_depth': 75, 'subsample': 0.9680625452788817, 'colsample_bytree': 0.5693293398867161}. Best is trial 0 with value: 0.5464.\n",
      "[I 2025-01-15 21:26:45,187] Trial 3 finished with value: 0.5487 and parameters: {'eta': 0.049635608447403, 'max_depth': 68, 'subsample': 0.8630783639245649, 'colsample_bytree': 0.7811650920534501}. Best is trial 3 with value: 0.5487.\n",
      "[I 2025-01-15 21:26:45,827] Trial 4 finished with value: 0.5469 and parameters: {'eta': 0.06501909968356433, 'max_depth': 67, 'subsample': 0.9295873800469288, 'colsample_bytree': 0.9036317643160042}. Best is trial 3 with value: 0.5487.\n",
      "[I 2025-01-15 21:26:46,199] Trial 5 finished with value: 0.5298 and parameters: {'eta': 0.0034075399613058, 'max_depth': 4, 'subsample': 0.7504079350499879, 'colsample_bytree': 0.6290920476610385}. Best is trial 3 with value: 0.5487.\n",
      "[I 2025-01-15 21:26:46,715] Trial 6 finished with value: 0.5386 and parameters: {'eta': 0.23435704480868794, 'max_depth': 71, 'subsample': 0.6115226999586527, 'colsample_bytree': 0.8241050573345783}. Best is trial 3 with value: 0.5487.\n",
      "[I 2025-01-15 21:26:47,266] Trial 7 finished with value: 0.5412 and parameters: {'eta': 0.17440127709076408, 'max_depth': 96, 'subsample': 0.8118238349586453, 'colsample_bytree': 0.9245153387359848}. Best is trial 3 with value: 0.5487.\n",
      "[I 2025-01-15 21:26:47,690] Trial 8 finished with value: 0.5494 and parameters: {'eta': 0.12303527451106142, 'max_depth': 8, 'subsample': 0.8656875984678829, 'colsample_bytree': 0.5384375924731979}. Best is trial 8 with value: 0.5494.\n",
      "[I 2025-01-15 21:26:48,248] Trial 9 finished with value: 0.5463 and parameters: {'eta': 0.08093143190886945, 'max_depth': 69, 'subsample': 0.961547495186988, 'colsample_bytree': 0.7509620629961977}. Best is trial 8 with value: 0.5494.\n",
      "[I 2025-01-15 21:26:48,740] Trial 10 finished with value: 0.537 and parameters: {'eta': 0.2960088790277433, 'max_depth': 30, 'subsample': 0.6840562070415979, 'colsample_bytree': 0.5113413525028775}. Best is trial 8 with value: 0.5494.\n",
      "[I 2025-01-15 21:26:49,272] Trial 11 finished with value: 0.5472 and parameters: {'eta': 0.11268146064646486, 'max_depth': 44, 'subsample': 0.8561996539077011, 'colsample_bytree': 0.7183124331952649}. Best is trial 8 with value: 0.5494.\n",
      "[I 2025-01-15 21:26:49,983] Trial 12 finished with value: 0.5431 and parameters: {'eta': 0.007745264167978383, 'max_depth': 41, 'subsample': 0.8679224203800497, 'colsample_bytree': 0.7169793431479772}. Best is trial 8 with value: 0.5494.\n",
      "[I 2025-01-15 21:26:50,520] Trial 13 finished with value: 0.5427 and parameters: {'eta': 0.11648444214488451, 'max_depth': 23, 'subsample': 0.7677465223830707, 'colsample_bytree': 0.8060169795878824}. Best is trial 8 with value: 0.5494.\n",
      "[I 2025-01-15 21:26:51,217] Trial 14 finished with value: 0.5454 and parameters: {'eta': 0.04299900464859188, 'max_depth': 55, 'subsample': 0.864761945187378, 'colsample_bytree': 0.9808702232130546}. Best is trial 8 with value: 0.5494.\n",
      "[I 2025-01-15 21:26:51,737] Trial 15 finished with value: 0.5449 and parameters: {'eta': 0.11696625744160011, 'max_depth': 52, 'subsample': 0.6837433524342197, 'colsample_bytree': 0.6689752945098477}. Best is trial 8 with value: 0.5494.\n",
      "[I 2025-01-15 21:26:52,279] Trial 16 finished with value: 0.5475 and parameters: {'eta': 0.09773341451090162, 'max_depth': 23, 'subsample': 0.8903073949791561, 'colsample_bytree': 0.501793759431922}. Best is trial 8 with value: 0.5494.\n",
      "[I 2025-01-15 21:26:52,775] Trial 17 finished with value: 0.5379 and parameters: {'eta': 0.2211812416293612, 'max_depth': 84, 'subsample': 0.8082391851926113, 'colsample_bytree': 0.854681020087836}. Best is trial 8 with value: 0.5494.\n",
      "[I 2025-01-15 21:26:53,385] Trial 18 finished with value: 0.5475 and parameters: {'eta': 0.036209283144857884, 'max_depth': 58, 'subsample': 0.678228683372645, 'colsample_bytree': 0.7709911190053489}. Best is trial 8 with value: 0.5494.\n",
      "[I 2025-01-15 21:26:53,892] Trial 19 finished with value: 0.5455 and parameters: {'eta': 0.13457580895995225, 'max_depth': 35, 'subsample': 0.9970495561352353, 'colsample_bytree': 0.6687224581685574}. Best is trial 8 with value: 0.5494.\n",
      "[I 2025-01-15 21:26:54,448] Trial 20 finished with value: 0.5488 and parameters: {'eta': 0.02795477348617497, 'max_depth': 16, 'subsample': 0.9128863100650061, 'colsample_bytree': 0.5435827479317684}. Best is trial 8 with value: 0.5494.\n",
      "[I 2025-01-15 21:26:54,972] Trial 21 finished with value: 0.5497 and parameters: {'eta': 0.033631617053532084, 'max_depth': 13, 'subsample': 0.9142028946335162, 'colsample_bytree': 0.571763156660262}. Best is trial 21 with value: 0.5497.\n",
      "[I 2025-01-15 21:26:55,511] Trial 22 finished with value: 0.55 and parameters: {'eta': 0.025109873269662367, 'max_depth': 14, 'subsample': 0.9166778181153297, 'colsample_bytree': 0.5514931078251781}. Best is trial 22 with value: 0.55.\n",
      "[I 2025-01-15 21:26:55,949] Trial 23 finished with value: 0.5391 and parameters: {'eta': 0.0781194208036647, 'max_depth': 4, 'subsample': 0.8067466490913575, 'colsample_bytree': 0.5793743532130944}. Best is trial 22 with value: 0.55.\n",
      "[I 2025-01-15 21:26:56,551] Trial 24 finished with value: 0.5467 and parameters: {'eta': 0.0013664940556673624, 'max_depth': 16, 'subsample': 0.9342135697891785, 'colsample_bytree': 0.5399072482830268}. Best is trial 22 with value: 0.55.\n",
      "[I 2025-01-15 21:26:57,109] Trial 25 finished with value: 0.5462 and parameters: {'eta': 0.02178310544942784, 'max_depth': 13, 'subsample': 0.9977041684450444, 'colsample_bytree': 0.6326699113824632}. Best is trial 22 with value: 0.55.\n",
      "[I 2025-01-15 21:26:57,707] Trial 26 finished with value: 0.5436 and parameters: {'eta': 0.08326985521344778, 'max_depth': 25, 'subsample': 0.8228825497409518, 'colsample_bytree': 0.5933961445157739}. Best is trial 22 with value: 0.55.\n",
      "[I 2025-01-15 21:26:58,167] Trial 27 finished with value: 0.5483 and parameters: {'eta': 0.14922733515091374, 'max_depth': 9, 'subsample': 0.907234331611448, 'colsample_bytree': 0.5355255629027764}. Best is trial 22 with value: 0.55.\n",
      "[I 2025-01-15 21:26:58,735] Trial 28 finished with value: 0.5369 and parameters: {'eta': 0.2797132241970972, 'max_depth': 33, 'subsample': 0.9434997948784998, 'colsample_bytree': 0.6463177349376024}. Best is trial 22 with value: 0.55.\n",
      "[I 2025-01-15 21:26:59,303] Trial 29 finished with value: 0.5448 and parameters: {'eta': 0.06890779887776616, 'max_depth': 22, 'subsample': 0.7812910936051168, 'colsample_bytree': 0.5984281495448461}. Best is trial 22 with value: 0.55.\n",
      "[I 2025-01-15 21:26:59,726] Trial 30 finished with value: 0.5298 and parameters: {'eta': 0.04924418533400461, 'max_depth': 3, 'subsample': 0.5232337745901885, 'colsample_bytree': 0.6988535577116527}. Best is trial 22 with value: 0.55.\n",
      "[I 2025-01-15 21:27:00,353] Trial 31 finished with value: 0.5483 and parameters: {'eta': 0.02507151538427142, 'max_depth': 19, 'subsample': 0.9085200869482363, 'colsample_bytree': 0.5443536280397078}. Best is trial 22 with value: 0.55.\n",
      "[I 2025-01-15 21:27:00,887] Trial 32 finished with value: 0.5482 and parameters: {'eta': 0.017936933479879062, 'max_depth': 13, 'subsample': 0.8895813204163955, 'colsample_bytree': 0.5618171723100545}. Best is trial 22 with value: 0.55.\n",
      "[I 2025-01-15 21:27:01,398] Trial 33 finished with value: 0.5471 and parameters: {'eta': 0.030935308452789988, 'max_depth': 9, 'subsample': 0.8425549521983711, 'colsample_bytree': 0.5007600901163167}. Best is trial 22 with value: 0.55.\n",
      "[I 2025-01-15 21:27:01,947] Trial 34 finished with value: 0.5482 and parameters: {'eta': 0.0565643668356184, 'max_depth': 16, 'subsample': 0.9661626803960341, 'colsample_bytree': 0.6046170978235776}. Best is trial 22 with value: 0.55.\n",
      "[I 2025-01-15 21:27:02,481] Trial 35 finished with value: 0.5466 and parameters: {'eta': 0.09621514527816541, 'max_depth': 28, 'subsample': 0.9142241707692677, 'colsample_bytree': 0.561775463612574}. Best is trial 22 with value: 0.55.\n",
      "[I 2025-01-15 21:27:02,974] Trial 36 finished with value: 0.5427 and parameters: {'eta': 0.19180960143664139, 'max_depth': 40, 'subsample': 0.9510674824860889, 'colsample_bytree': 0.5339104079537378}. Best is trial 22 with value: 0.55.\n",
      "[I 2025-01-15 21:27:03,428] Trial 37 finished with value: 0.5482 and parameters: {'eta': 0.05882536924267641, 'max_depth': 9, 'subsample': 0.7167017928294568, 'colsample_bytree': 0.567175648621869}. Best is trial 22 with value: 0.55.\n",
      "[I 2025-01-15 21:27:04,089] Trial 38 finished with value: 0.5452 and parameters: {'eta': 0.017336588318462576, 'max_depth': 19, 'subsample': 0.8768457533383305, 'colsample_bytree': 0.6240741123061517}. Best is trial 22 with value: 0.55.\n",
      "[I 2025-01-15 21:27:04,524] Trial 39 finished with value: 0.5443 and parameters: {'eta': 0.040247963994257355, 'max_depth': 7, 'subsample': 0.9829556103715867, 'colsample_bytree': 0.52136014035013}. Best is trial 22 with value: 0.55.\n",
      "[I 2025-01-15 21:27:05,009] Trial 40 finished with value: 0.5436 and parameters: {'eta': 0.17153845366548034, 'max_depth': 14, 'subsample': 0.8366864585364197, 'colsample_bytree': 0.6573115850396963}. Best is trial 22 with value: 0.55.\n",
      "[I 2025-01-15 21:27:05,631] Trial 41 finished with value: 0.5451 and parameters: {'eta': 0.05110730538542557, 'max_depth': 87, 'subsample': 0.9174354175308737, 'colsample_bytree': 0.8634692055452989}. Best is trial 22 with value: 0.55.\n",
      "[I 2025-01-15 21:27:06,340] Trial 42 finished with value: 0.548 and parameters: {'eta': 0.0703871510413, 'max_depth': 63, 'subsample': 0.9371621665947983, 'colsample_bytree': 0.7732927393933468}. Best is trial 22 with value: 0.55.\n",
      "[I 2025-01-15 21:27:07,023] Trial 43 finished with value: 0.5442 and parameters: {'eta': 0.09460018598465991, 'max_depth': 45, 'subsample': 0.8850262382347064, 'colsample_bytree': 0.5839729623513508}. Best is trial 22 with value: 0.55.\n",
      "[I 2025-01-15 21:27:07,894] Trial 44 finished with value: 0.5463 and parameters: {'eta': 0.0016182822995347568, 'max_depth': 73, 'subsample': 0.8509261823816523, 'colsample_bytree': 0.8065051694661391}. Best is trial 22 with value: 0.55.\n",
      "[I 2025-01-15 21:27:08,469] Trial 45 finished with value: 0.5453 and parameters: {'eta': 0.03631737115705341, 'max_depth': 80, 'subsample': 0.6103575980408665, 'colsample_bytree': 0.6154091074422817}. Best is trial 22 with value: 0.55.\n",
      "[I 2025-01-15 21:27:09,138] Trial 46 finished with value: 0.5467 and parameters: {'eta': 0.012627518302651571, 'max_depth': 64, 'subsample': 0.7936397250912035, 'colsample_bytree': 0.7287483518612746}. Best is trial 22 with value: 0.55.\n",
      "[I 2025-01-15 21:27:09,715] Trial 47 finished with value: 0.5442 and parameters: {'eta': 0.12956521511177152, 'max_depth': 97, 'subsample': 0.7395152642644635, 'colsample_bytree': 0.6854257504650646}. Best is trial 22 with value: 0.55.\n",
      "[I 2025-01-15 21:27:10,281] Trial 48 finished with value: 0.5492 and parameters: {'eta': 0.05921993628364086, 'max_depth': 27, 'subsample': 0.9716421569172301, 'colsample_bytree': 0.5199967317796996}. Best is trial 22 with value: 0.55.\n",
      "[I 2025-01-15 21:27:10,906] Trial 49 finished with value: 0.5502 and parameters: {'eta': 0.028825986775941923, 'max_depth': 28, 'subsample': 0.9707114379052324, 'colsample_bytree': 0.5534248036587349}. Best is trial 49 with value: 0.5502.\n",
      "[I 2025-01-15 21:27:11,433] Trial 50 finished with value: 0.549 and parameters: {'eta': 0.1049461369577276, 'max_depth': 27, 'subsample': 0.9724916591516882, 'colsample_bytree': 0.519323085709501}. Best is trial 49 with value: 0.5502.\n",
      "[I 2025-01-15 21:27:11,979] Trial 51 finished with value: 0.548 and parameters: {'eta': 0.1109790387478104, 'max_depth': 29, 'subsample': 0.9779498927458568, 'colsample_bytree': 0.5198953413617263}. Best is trial 49 with value: 0.5502.\n",
      "[I 2025-01-15 21:27:12,524] Trial 52 finished with value: 0.5479 and parameters: {'eta': 0.13648046937027758, 'max_depth': 26, 'subsample': 0.9700737557885359, 'colsample_bytree': 0.5171832616443326}. Best is trial 49 with value: 0.5502.\n",
      "[I 2025-01-15 21:27:13,074] Trial 53 finished with value: 0.5491 and parameters: {'eta': 0.08602316812239463, 'max_depth': 34, 'subsample': 0.9586707455294788, 'colsample_bytree': 0.5570343749506397}. Best is trial 49 with value: 0.5502.\n",
      "[I 2025-01-15 21:27:13,617] Trial 54 finished with value: 0.5467 and parameters: {'eta': 0.08422889860658861, 'max_depth': 21, 'subsample': 0.9553159895190272, 'colsample_bytree': 0.5565617413755636}. Best is trial 49 with value: 0.5502.\n",
      "[I 2025-01-15 21:27:14,180] Trial 55 finished with value: 0.5479 and parameters: {'eta': 0.07037168798534225, 'max_depth': 37, 'subsample': 0.9334103867644896, 'colsample_bytree': 0.5699901375066934}. Best is trial 49 with value: 0.5502.\n",
      "[I 2025-01-15 21:27:14,781] Trial 56 finished with value: 0.5482 and parameters: {'eta': 0.048228585083118, 'max_depth': 33, 'subsample': 0.9956610492191988, 'colsample_bytree': 0.5848302071521306}. Best is trial 49 with value: 0.5502.\n",
      "[I 2025-01-15 21:27:15,312] Trial 57 finished with value: 0.5481 and parameters: {'eta': 0.12215547329039433, 'max_depth': 49, 'subsample': 0.8964076281798037, 'colsample_bytree': 0.5478928962995985}. Best is trial 49 with value: 0.5502.\n",
      "[I 2025-01-15 21:27:15,906] Trial 58 finished with value: 0.5471 and parameters: {'eta': 0.05875927189869691, 'max_depth': 31, 'subsample': 0.9533317366755187, 'colsample_bytree': 0.6080002750677004}. Best is trial 49 with value: 0.5502.\n",
      "[I 2025-01-15 21:27:16,358] Trial 59 finished with value: 0.5432 and parameters: {'eta': 0.07731649111350927, 'max_depth': 6, 'subsample': 0.9270876658034324, 'colsample_bytree': 0.6385390984976278}. Best is trial 49 with value: 0.5502.\n",
      "[I 2025-01-15 21:27:16,940] Trial 60 finished with value: 0.547 and parameters: {'eta': 0.04034509474161521, 'max_depth': 12, 'subsample': 0.8702528393323007, 'colsample_bytree': 0.9706472377802746}. Best is trial 49 with value: 0.5502.\n",
      "[I 2025-01-15 21:27:17,483] Trial 61 finished with value: 0.5473 and parameters: {'eta': 0.10362422366078647, 'max_depth': 38, 'subsample': 0.9805425601603636, 'colsample_bytree': 0.5285528061968892}. Best is trial 49 with value: 0.5502.\n",
      "[I 2025-01-15 21:27:17,997] Trial 62 finished with value: 0.5468 and parameters: {'eta': 0.14541056278585215, 'max_depth': 25, 'subsample': 0.9553320444422511, 'colsample_bytree': 0.503295558848929}. Best is trial 49 with value: 0.5502.\n",
      "[I 2025-01-15 21:27:18,541] Trial 63 finished with value: 0.5487 and parameters: {'eta': 0.08904192543045605, 'max_depth': 19, 'subsample': 0.9264147669268447, 'colsample_bytree': 0.5517581362640591}. Best is trial 49 with value: 0.5502.\n",
      "[I 2025-01-15 21:27:19,062] Trial 64 finished with value: 0.5456 and parameters: {'eta': 0.1617887731926641, 'max_depth': 44, 'subsample': 0.970415388668029, 'colsample_bytree': 0.5298157389099261}. Best is trial 49 with value: 0.5502.\n",
      "[I 2025-01-15 21:27:19,605] Trial 65 finished with value: 0.5444 and parameters: {'eta': 0.10671437610174025, 'max_depth': 26, 'subsample': 0.9420876731781507, 'colsample_bytree': 0.5827952157438578}. Best is trial 49 with value: 0.5502.\n",
      "[I 2025-01-15 21:27:20,134] Trial 66 finished with value: 0.5487 and parameters: {'eta': 0.12568855544087662, 'max_depth': 32, 'subsample': 0.9995116094176293, 'colsample_bytree': 0.514668320941739}. Best is trial 49 with value: 0.5502.\n",
      "[I 2025-01-15 21:27:20,715] Trial 67 finished with value: 0.548 and parameters: {'eta': 0.027853049115406342, 'max_depth': 16, 'subsample': 0.9025409875599565, 'colsample_bytree': 0.5714163377764935}. Best is trial 49 with value: 0.5502.\n",
      "[I 2025-01-15 21:27:21,280] Trial 68 finished with value: 0.5489 and parameters: {'eta': 0.0644720231009111, 'max_depth': 22, 'subsample': 0.9862238173781464, 'colsample_bytree': 0.5435258841077449}. Best is trial 49 with value: 0.5502.\n",
      "[I 2025-01-15 21:27:21,985] Trial 69 finished with value: 0.5477 and parameters: {'eta': 0.008879008979157981, 'max_depth': 35, 'subsample': 0.9668866922112079, 'colsample_bytree': 0.5971482526525307}. Best is trial 49 with value: 0.5502.\n",
      "[I 2025-01-15 21:27:22,480] Trial 70 finished with value: 0.5502 and parameters: {'eta': 0.04894863206441162, 'max_depth': 11, 'subsample': 0.9216294737984666, 'colsample_bytree': 0.5087761170206182}. Best is trial 49 with value: 0.5502.\n",
      "[I 2025-01-15 21:27:22,987] Trial 71 finished with value: 0.5505 and parameters: {'eta': 0.0460479714782899, 'max_depth': 12, 'subsample': 0.9434730553514691, 'colsample_bytree': 0.501892394882468}. Best is trial 71 with value: 0.5505.\n",
      "[I 2025-01-15 21:27:23,522] Trial 72 finished with value: 0.55 and parameters: {'eta': 0.03312166042301935, 'max_depth': 11, 'subsample': 0.9217336459873302, 'colsample_bytree': 0.5548287544623307}. Best is trial 71 with value: 0.5505.\n",
      "[I 2025-01-15 21:27:23,944] Trial 73 finished with value: 0.5446 and parameters: {'eta': 0.029610438352965736, 'max_depth': 7, 'subsample': 0.881906127814386, 'colsample_bytree': 0.5109196830548783}. Best is trial 71 with value: 0.5505.\n",
      "[I 2025-01-15 21:27:24,309] Trial 74 finished with value: 0.5306 and parameters: {'eta': 0.04578359408503857, 'max_depth': 3, 'subsample': 0.9190898214418823, 'colsample_bytree': 0.5015751859669969}. Best is trial 71 with value: 0.5505.\n",
      "[I 2025-01-15 21:27:24,811] Trial 75 finished with value: 0.5475 and parameters: {'eta': 0.01763374444959868, 'max_depth': 11, 'subsample': 0.8627053067180871, 'colsample_bytree': 0.5314961142869892}. Best is trial 71 with value: 0.5505.\n",
      "[I 2025-01-15 21:27:25,345] Trial 76 finished with value: 0.5482 and parameters: {'eta': 0.03486886969621865, 'max_depth': 14, 'subsample': 0.8991395531385199, 'colsample_bytree': 0.5425309285916542}. Best is trial 71 with value: 0.5505.\n",
      "[I 2025-01-15 21:27:25,824] Trial 77 finished with value: 0.5412 and parameters: {'eta': 0.22668299654595242, 'max_depth': 17, 'subsample': 0.9389853884381254, 'colsample_bytree': 0.5755928281638073}. Best is trial 71 with value: 0.5505.\n",
      "[I 2025-01-15 21:27:26,340] Trial 78 finished with value: 0.5476 and parameters: {'eta': 0.025508719556884395, 'max_depth': 10, 'subsample': 0.8263015056280921, 'colsample_bytree': 0.5596236389139143}. Best is trial 71 with value: 0.5505.\n",
      "[I 2025-01-15 21:27:26,752] Trial 79 finished with value: 0.5433 and parameters: {'eta': 0.05732877822585352, 'max_depth': 6, 'subsample': 0.9209913212685371, 'colsample_bytree': 0.5287009490560964}. Best is trial 71 with value: 0.5505.\n",
      "[I 2025-01-15 21:27:27,414] Trial 80 finished with value: 0.5452 and parameters: {'eta': 0.013372156926333395, 'max_depth': 18, 'subsample': 0.9024370236637621, 'colsample_bytree': 0.6192997384445116}. Best is trial 71 with value: 0.5505.\n",
      "[I 2025-01-15 21:27:27,973] Trial 81 finished with value: 0.5498 and parameters: {'eta': 0.04274605514295198, 'max_depth': 14, 'subsample': 0.9432647956256935, 'colsample_bytree': 0.5509417528111286}. Best is trial 71 with value: 0.5505.\n",
      "[I 2025-01-15 21:27:28,514] Trial 82 finished with value: 0.5483 and parameters: {'eta': 0.05124287140263714, 'max_depth': 14, 'subsample': 0.9506014359770995, 'colsample_bytree': 0.5921919708434463}. Best is trial 71 with value: 0.5505.\n",
      "[I 2025-01-15 21:27:28,914] Trial 83 finished with value: 0.5491 and parameters: {'eta': 0.19380397202703217, 'max_depth': 5, 'subsample': 0.939111032907827, 'colsample_bytree': 0.5408457600955968}. Best is trial 71 with value: 0.5505.\n",
      "[I 2025-01-15 21:27:29,382] Trial 84 finished with value: 0.5483 and parameters: {'eta': 0.042254147004648496, 'max_depth': 9, 'subsample': 0.9122066502291704, 'colsample_bytree': 0.5112656632221416}. Best is trial 71 with value: 0.5505.\n",
      "[I 2025-01-15 21:27:29,953] Trial 85 finished with value: 0.5478 and parameters: {'eta': 0.021462443253826763, 'max_depth': 12, 'subsample': 0.8814732263583214, 'colsample_bytree': 0.5554953331471628}. Best is trial 71 with value: 0.5505.\n",
      "[I 2025-01-15 21:27:30,531] Trial 86 finished with value: 0.5488 and parameters: {'eta': 0.035197748929124806, 'max_depth': 20, 'subsample': 0.6693368410667817, 'colsample_bytree': 0.525204604660484}. Best is trial 71 with value: 0.5505.\n",
      "[I 2025-01-15 21:27:31,012] Trial 87 finished with value: 0.5446 and parameters: {'eta': 0.006539587147336955, 'max_depth': 8, 'subsample': 0.9289144726813026, 'colsample_bytree': 0.5701795302744355}. Best is trial 71 with value: 0.5505.\n",
      "[I 2025-01-15 21:27:31,603] Trial 88 finished with value: 0.5476 and parameters: {'eta': 0.06445714706980832, 'max_depth': 24, 'subsample': 0.8908493291588099, 'colsample_bytree': 0.5001809914249146}. Best is trial 71 with value: 0.5505.\n",
      "[I 2025-01-15 21:27:32,175] Trial 89 finished with value: 0.5474 and parameters: {'eta': 0.07394476960274984, 'max_depth': 15, 'subsample': 0.9452256819015334, 'colsample_bytree': 0.5396120432987855}. Best is trial 71 with value: 0.5505.\n",
      "[I 2025-01-15 21:27:32,643] Trial 90 finished with value: 0.539 and parameters: {'eta': 0.2625548450985801, 'max_depth': 11, 'subsample': 0.9877840632113807, 'colsample_bytree': 0.6087578929844577}. Best is trial 71 with value: 0.5505.\n",
      "[I 2025-01-15 21:27:33,265] Trial 91 finished with value: 0.5498 and parameters: {'eta': 0.053059059151843946, 'max_depth': 21, 'subsample': 0.961958455634774, 'colsample_bytree': 0.5575767172082895}. Best is trial 71 with value: 0.5505.\n",
      "[I 2025-01-15 21:27:33,843] Trial 92 finished with value: 0.5496 and parameters: {'eta': 0.0527574545952459, 'max_depth': 22, 'subsample': 0.9610825196059974, 'colsample_bytree': 0.5514301552523068}. Best is trial 71 with value: 0.5505.\n",
      "[I 2025-01-15 21:27:34,412] Trial 93 finished with value: 0.5482 and parameters: {'eta': 0.04228419721397371, 'max_depth': 17, 'subsample': 0.9621045497444306, 'colsample_bytree': 0.5864077095836578}. Best is trial 71 with value: 0.5505.\n",
      "[I 2025-01-15 21:27:34,980] Trial 94 finished with value: 0.5488 and parameters: {'eta': 0.04885828826736278, 'max_depth': 21, 'subsample': 0.9171718676519062, 'colsample_bytree': 0.5547129809763283}. Best is trial 71 with value: 0.5505.\n",
      "[I 2025-01-15 21:27:35,510] Trial 95 finished with value: 0.5485 and parameters: {'eta': 0.0325592577292055, 'max_depth': 13, 'subsample': 0.9286800027309965, 'colsample_bytree': 0.5707474726274523}. Best is trial 71 with value: 0.5505.\n",
      "[I 2025-01-15 21:27:36,152] Trial 96 finished with value: 0.5502 and parameters: {'eta': 0.023093801658514084, 'max_depth': 23, 'subsample': 0.9468029552538147, 'colsample_bytree': 0.5472454959407526}. Best is trial 71 with value: 0.5505.\n",
      "[I 2025-01-15 21:27:36,777] Trial 97 finished with value: 0.549 and parameters: {'eta': 0.022963996657944064, 'max_depth': 23, 'subsample': 0.9500834382086668, 'colsample_bytree': 0.5504246974059883}. Best is trial 71 with value: 0.5505.\n",
      "[I 2025-01-15 21:27:37,395] Trial 98 finished with value: 0.5452 and parameters: {'eta': 0.013947167180490591, 'max_depth': 18, 'subsample': 0.5387736278992312, 'colsample_bytree': 0.7506333309795624}. Best is trial 71 with value: 0.5505.\n",
      "[I 2025-01-15 21:27:37,967] Trial 99 finished with value: 0.549 and parameters: {'eta': 0.05263625209610494, 'max_depth': 30, 'subsample': 0.9869107036115217, 'colsample_bytree': 0.532502803732396}. Best is trial 71 with value: 0.5505.\n"
     ]
    }
   ],
   "source": [
    "study = optuna.create_study(direction=\"maximize\")\n",
    "study.optimize(objective, n_trials=100)"
   ]
  },
  {
   "cell_type": "code",
   "execution_count": 11,
   "metadata": {},
   "outputs": [
    {
     "name": "stdout",
     "output_type": "stream",
     "text": [
      "Mejores hiperparámetros: {'eta': 0.0460479714782899, 'max_depth': 12, 'subsample': 0.9434730553514691, 'colsample_bytree': 0.501892394882468}\n",
      "Mejor índice de concordancia: 0.5505\n"
     ]
    }
   ],
   "source": [
    "print(\"Mejores hiperparámetros:\", study.best_params)\n",
    "print(\"Mejor índice de concordancia:\", study.best_value)"
   ]
  },
  {
   "cell_type": "code",
   "execution_count": null,
   "metadata": {},
   "outputs": [],
   "source": []
  },
  {
   "cell_type": "code",
   "execution_count": 12,
   "metadata": {},
   "outputs": [
    {
     "name": "stdout",
     "output_type": "stream",
     "text": [
      "0.6143717834380109\n"
     ]
    }
   ],
   "source": [
    "dtrain = xgb.DMatrix(X, label=efs_time)\n",
    "dtrain.set_weight(efs)\n",
    "\n",
    "model = xgb.train(study.best_params, dtrain)\n",
    "\n",
    "pred_risks = model.predict(dtrain)\n",
    "\n",
    "c_index = concordance_index(\n",
    "    efs_time,\n",
    "    pred_risks,\n",
    "    event_observed=efs\n",
    ")\n",
    "\n",
    "print(c_index)"
   ]
  },
  {
   "cell_type": "code",
   "execution_count": 13,
   "metadata": {},
   "outputs": [
    {
     "name": "stdout",
     "output_type": "stream",
     "text": [
      "Spearman Correlation: 0.31909882362237957\n",
      "Pearson Correlation: 0.15675500542645296\n"
     ]
    }
   ],
   "source": [
    "from scipy.stats import spearmanr, pearsonr\n",
    "\n",
    "# Correlación de Spearman y Pearson\n",
    "spearman_corr, _ = spearmanr(pred_risks, efs_time)\n",
    "pearson_corr, _ = pearsonr(pred_risks, efs_time)\n",
    "\n",
    "print(\"Spearman Correlation:\", spearman_corr)\n",
    "print(\"Pearson Correlation:\", pearson_corr)"
   ]
  },
  {
   "cell_type": "code",
   "execution_count": 14,
   "metadata": {},
   "outputs": [
    {
     "name": "stdout",
     "output_type": "stream",
     "text": [
      "Spearman Correlation: -0.31909882362237957\n",
      "Pearson Correlation: -0.15675500542645296\n"
     ]
    }
   ],
   "source": [
    "from scipy.stats import spearmanr, pearsonr\n",
    "\n",
    "# Correlación de Spearman y Pearson\n",
    "spearman_corr, _ = spearmanr(-pred_risks, efs_time)\n",
    "pearson_corr, _ = pearsonr(-pred_risks, efs_time)\n",
    "\n",
    "print(\"Spearman Correlation:\", spearman_corr)\n",
    "print(\"Pearson Correlation:\", pearson_corr)"
   ]
  },
  {
   "cell_type": "code",
   "execution_count": null,
   "metadata": {},
   "outputs": [],
   "source": []
  }
 ],
 "metadata": {
  "kernelspec": {
   "display_name": "pyenv3-10",
   "language": "python",
   "name": "python3"
  },
  "language_info": {
   "codemirror_mode": {
    "name": "ipython",
    "version": 3
   },
   "file_extension": ".py",
   "mimetype": "text/x-python",
   "name": "python",
   "nbconvert_exporter": "python",
   "pygments_lexer": "ipython3",
   "version": "3.10.15"
  }
 },
 "nbformat": 4,
 "nbformat_minor": 2
}
