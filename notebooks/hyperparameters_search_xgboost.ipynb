{
 "cells": [
  {
   "cell_type": "markdown",
   "metadata": {},
   "source": [
    "# Imports"
   ]
  },
  {
   "cell_type": "code",
   "execution_count": 1,
   "metadata": {},
   "outputs": [
    {
     "name": "stderr",
     "output_type": "stream",
     "text": [
      "/Users/cris/Documents/Projects/post-hct-survival-prediction/pyenv3-10/lib/python3.10/site-packages/tqdm/auto.py:21: TqdmWarning: IProgress not found. Please update jupyter and ipywidgets. See https://ipywidgets.readthedocs.io/en/stable/user_install.html\n",
      "  from .autonotebook import tqdm as notebook_tqdm\n"
     ]
    }
   ],
   "source": [
    "import numpy as np\n",
    "import pandas as pd\n",
    "import matplotlib.pyplot as plt\n",
    "import seaborn as sns\n",
    "\n",
    "pd.set_option('display.max_columns', None)\n",
    "sns.set_style('whitegrid')\n",
    "sns.set_palette('muted')\n",
    "\n",
    "import optuna\n",
    "\n",
    "from sklearn.base import clone\n",
    "\n",
    "from sklearn.model_selection import KFold\n",
    "from lifelines.utils import concordance_index\n",
    "import xgboost as xgb"
   ]
  },
  {
   "cell_type": "code",
   "execution_count": 2,
   "metadata": {},
   "outputs": [],
   "source": [
    "DATA_PATH = '../data/equity-post-HCT-survival-predictions/'\n",
    "RANDOM_STATE = 54321"
   ]
  },
  {
   "cell_type": "markdown",
   "metadata": {},
   "source": [
    "# Data"
   ]
  },
  {
   "cell_type": "code",
   "execution_count": 3,
   "metadata": {},
   "outputs": [],
   "source": [
    "X = pd.read_pickle(DATA_PATH + 'train_test_split/X_25-12-2024.pkl')\n",
    "y = pd.read_pickle(DATA_PATH + 'train_test_split/y_25-12-2024.pkl')\n",
    "efs_time = pd.read_pickle(DATA_PATH + 'train_test_split/efs_time_25-12-2024.pkl')\n",
    "race_group = pd.read_pickle(DATA_PATH + 'train_test_split/race_group_25-12-2024.pkl')"
   ]
  },
  {
   "cell_type": "code",
   "execution_count": 4,
   "metadata": {},
   "outputs": [],
   "source": [
    "for col in X.columns:\n",
    "    X[col] = X[col].ffill().bfill()"
   ]
  },
  {
   "cell_type": "code",
   "execution_count": 5,
   "metadata": {},
   "outputs": [],
   "source": [
    "X_cph = X[[\n",
    "    'hla_match_c_high',\n",
    "    'hla_high_res_8',\n",
    "    'hla_low_res_6',\n",
    "    # 'hla_high_res_6',\n",
    "    'hla_high_res_10',\n",
    "    # 'hla_match_dqb1_high',\n",
    "    'hla_nmdp_6',\n",
    "    'hla_match_c_low',\n",
    "    'hla_match_drb1_low',\n",
    "    'hla_match_dqb1_low',\n",
    "    'year_hct',\n",
    "    'hla_match_a_high',\n",
    "    'donor_age',\n",
    "    'hla_match_b_low',\n",
    "    'age_at_hct',\n",
    "    # 'hla_match_a_low',\n",
    "    'hla_match_b_high',\n",
    "    'comorbidity_score',\n",
    "    'karnofsky_score',\n",
    "    # 'hla_low_res_8',\n",
    "    # 'hla_match_drb1_high',\n",
    "    # 'hla_low_res_10',\n",
    "    'dri_score',\n",
    "    'psych_disturb',\n",
    "    'cyto_score',\n",
    "    'diabetes',\n",
    "    'tbi_status',\n",
    "    'arrhythmia',\n",
    "    'graft_type',\n",
    "    'vent_hist',\n",
    "    'renal_issue',\n",
    "    'pulm_severe',\n",
    "    'cmv_status',\n",
    "    'tce_imm_match',\n",
    "    'rituximab',\n",
    "    'prod_type',\n",
    "    'cyto_score_detail',\n",
    "    'conditioning_intensity',\n",
    "    'obesity',\n",
    "    'mrd_hct',\n",
    "    'in_vivo_tcd',\n",
    "    'tce_match',\n",
    "    'hepatic_severe',\n",
    "    'prior_tumor',\n",
    "    'peptic_ulcer',\n",
    "    'gvhd_proph',\n",
    "    'rheum_issue',\n",
    "    'sex_match',\n",
    "    'hepatic_mild',\n",
    "    'tce_div_match',\n",
    "    'donor_related',\n",
    "    'melphalan_dose',\n",
    "    'cardiac',\n",
    "    'pulm_moderate',\n",
    "    'prim_disease_hct_AI',\n",
    "    'prim_disease_hct_ALL',\n",
    "    'prim_disease_hct_AML',\n",
    "    'prim_disease_hct_CML',\n",
    "    'prim_disease_hct_HD',\n",
    "    'prim_disease_hct_HIS',\n",
    "    'prim_disease_hct_IEA',\n",
    "    'prim_disease_hct_IIS',\n",
    "    'prim_disease_hct_IMD',\n",
    "    'prim_disease_hct_IPA',\n",
    "    'prim_disease_hct_MDS',\n",
    "    'prim_disease_hct_MPN',\n",
    "    'prim_disease_hct_NHL',\n",
    "    'prim_disease_hct_Other acute leukemia',\n",
    "    'prim_disease_hct_Other leukemia',\n",
    "    'prim_disease_hct_PCD',\n",
    "    'prim_disease_hct_SAA',\n",
    "    # 'prim_disease_hct_Solid tumor',\n",
    "    'ethnicity_Hispanic or Latino',\n",
    "    'ethnicity_Non-resident of the U.S.',\n",
    "    'ethnicity_Not Hispanic or Latino',\n",
    "    'race_group_American Indian or Alaska Native',\n",
    "    'race_group_Asian',\n",
    "    'race_group_Black or African-American',\n",
    "    'race_group_More than one race',\n",
    "    'race_group_Native Hawaiian or other Pacific Islander',\n",
    "    # 'race_group_White',\n",
    "]]"
   ]
  },
  {
   "cell_type": "code",
   "execution_count": 6,
   "metadata": {},
   "outputs": [],
   "source": [
    "dtrain = xgb.DMatrix(X_cph, label=efs_time)\n",
    "dtrain.set_weight(y)"
   ]
  },
  {
   "cell_type": "markdown",
   "metadata": {},
   "source": [
    "## Metric"
   ]
  },
  {
   "cell_type": "code",
   "execution_count": 7,
   "metadata": {},
   "outputs": [],
   "source": [
    "def cross_validate_xgboost_survival(params, X, efs, efs_time, cv=5):\n",
    "    kf = KFold(n_splits=cv, shuffle=True, random_state=RANDOM_STATE)\n",
    "    c_index_scores = []\n",
    "    \n",
    "    for train_index, test_index in kf.split(X):\n",
    "        X_train, X_test = X.iloc[train_index], X.iloc[test_index]\n",
    "        efs_time_train, efs_time_test = efs_time.iloc[train_index], efs_time.iloc[test_index]\n",
    "        efs_train, efs_test = efs.iloc[train_index], efs.iloc[test_index]\n",
    "        \n",
    "        dtrain = xgb.DMatrix(X_train, label=efs_time_train)\n",
    "        dtrain.set_weight(efs_train)\n",
    "        dtest = xgb.DMatrix(X_test, label=efs_time_test)\n",
    "        dtest.set_weight(efs_test)\n",
    "        \n",
    "        model = xgb.train(params, dtrain)\n",
    "        \n",
    "        pred_risks = model.predict(dtest)\n",
    "        \n",
    "        c_index = concordance_index(\n",
    "            efs_time_test,\n",
    "            pred_risks,\n",
    "            event_observed=efs_test\n",
    "        )\n",
    "        \n",
    "        c_index_scores.append(c_index)\n",
    "    \n",
    "    return np.mean(c_index_scores)"
   ]
  },
  {
   "cell_type": "markdown",
   "metadata": {},
   "source": [
    "# Search"
   ]
  },
  {
   "cell_type": "code",
   "execution_count": 8,
   "metadata": {},
   "outputs": [],
   "source": [
    "efs = pd.Series(y, name='efs')\n",
    "\n",
    "def objective(trial):\n",
    "    params = {\n",
    "        'objective': 'survival:cox',\n",
    "        'eval_metric': 'cox-nloglik',\n",
    "        'eta': trial.suggest_float('eta', 0.0001, 0.3),\n",
    "        'max_depth': trial.suggest_int('max_depth', 3, 100),\n",
    "        'subsample': trial.suggest_float('subsample', 0.5, 1.0),\n",
    "        'colsample_bytree': trial.suggest_float('colsample_bytree', 0.5, 1.0),\n",
    "        # 'lambda_': trial.suggest_float('lambda', 0.0, 1.0)\n",
    "    }\n",
    "    \n",
    "    cv_index = cross_validate_xgboost_survival(\n",
    "        params, X, efs, efs_time, cv=5\n",
    "    )\n",
    "    \n",
    "    return round(cv_index, 4)"
   ]
  },
  {
   "cell_type": "code",
   "execution_count": 9,
   "metadata": {},
   "outputs": [],
   "source": [
    "params = {'eta': 0.05884790339411519, 'max_depth': 50, 'subsample': 0.9909449377442469, 'colsample_bytree': 0.513728660762146}"
   ]
  },
  {
   "cell_type": "code",
   "execution_count": 10,
   "metadata": {},
   "outputs": [],
   "source": [
    "study = optuna.create_study(direction=\"maximize\")\n",
    "study.optimize(objective, n_trials=100)"
   ]
  },
  {
   "cell_type": "code",
   "execution_count": 11,
   "metadata": {},
   "outputs": [],
   "source": [
    "print(\"Mejores hiperparámetros:\", study.best_params)\n",
    "print(\"Mejor índice de concordancia:\", study.best_value)"
   ]
  },
  {
   "cell_type": "code",
   "execution_count": null,
   "metadata": {},
   "outputs": [],
   "source": []
  }
 ],
 "metadata": {
  "kernelspec": {
   "display_name": "pyenv3-10",
   "language": "python",
   "name": "python3"
  },
  "language_info": {
   "codemirror_mode": {
    "name": "ipython",
    "version": 3
   },
   "file_extension": ".py",
   "mimetype": "text/x-python",
   "name": "python",
   "nbconvert_exporter": "python",
   "pygments_lexer": "ipython3",
   "version": "3.10.15"
  }
 },
 "nbformat": 4,
 "nbformat_minor": 2
}
