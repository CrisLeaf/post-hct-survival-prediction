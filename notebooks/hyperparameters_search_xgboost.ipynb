{
 "cells": [
  {
   "cell_type": "markdown",
   "metadata": {},
   "source": [
    "# Imports"
   ]
  },
  {
   "cell_type": "code",
   "execution_count": 1,
   "metadata": {},
   "outputs": [
    {
     "name": "stderr",
     "output_type": "stream",
     "text": [
      "/Users/cris/Documents/Projects/post-hct-survival-prediction/pyenv3-10/lib/python3.10/site-packages/tqdm/auto.py:21: TqdmWarning: IProgress not found. Please update jupyter and ipywidgets. See https://ipywidgets.readthedocs.io/en/stable/user_install.html\n",
      "  from .autonotebook import tqdm as notebook_tqdm\n"
     ]
    }
   ],
   "source": [
    "import numpy as np\n",
    "import pandas as pd\n",
    "import matplotlib.pyplot as plt\n",
    "import seaborn as sns\n",
    "\n",
    "pd.set_option('display.max_columns', None)\n",
    "sns.set_style('whitegrid')\n",
    "sns.set_palette('muted')\n",
    "\n",
    "import optuna\n",
    "\n",
    "from sklearn.base import clone\n",
    "\n",
    "from sklearn.model_selection import KFold\n",
    "from lifelines.utils import concordance_index\n",
    "import xgboost as xgb"
   ]
  },
  {
   "cell_type": "code",
   "execution_count": 2,
   "metadata": {},
   "outputs": [],
   "source": [
    "DATA_PATH = '../data/equity-post-HCT-survival-predictions/'\n",
    "RANDOM_STATE = 54321"
   ]
  },
  {
   "cell_type": "markdown",
   "metadata": {},
   "source": [
    "# Data"
   ]
  },
  {
   "cell_type": "code",
   "execution_count": 3,
   "metadata": {},
   "outputs": [],
   "source": [
    "X = pd.read_pickle(DATA_PATH + 'train_test_split/X_25-12-2024.pkl')\n",
    "y = pd.read_pickle(DATA_PATH + 'train_test_split/y_25-12-2024.pkl')\n",
    "efs_time = pd.read_pickle(DATA_PATH + 'train_test_split/efs_time_25-12-2024.pkl')\n",
    "race_group = pd.read_pickle(DATA_PATH + 'train_test_split/race_group_25-12-2024.pkl')"
   ]
  },
  {
   "cell_type": "code",
   "execution_count": 4,
   "metadata": {},
   "outputs": [],
   "source": [
    "for col in X.columns:\n",
    "    X[col] = X[col].ffill().bfill()"
   ]
  },
  {
   "cell_type": "code",
   "execution_count": 5,
   "metadata": {},
   "outputs": [],
   "source": [
    "X_cph = X[[\n",
    "    'hla_match_c_high',\n",
    "    'hla_high_res_8',\n",
    "    'hla_low_res_6',\n",
    "    # 'hla_high_res_6',\n",
    "    'hla_high_res_10',\n",
    "    # 'hla_match_dqb1_high',\n",
    "    'hla_nmdp_6',\n",
    "    'hla_match_c_low',\n",
    "    'hla_match_drb1_low',\n",
    "    'hla_match_dqb1_low',\n",
    "    'year_hct',\n",
    "    'hla_match_a_high',\n",
    "    'donor_age',\n",
    "    'hla_match_b_low',\n",
    "    'age_at_hct',\n",
    "    # 'hla_match_a_low',\n",
    "    'hla_match_b_high',\n",
    "    'comorbidity_score',\n",
    "    'karnofsky_score',\n",
    "    # 'hla_low_res_8',\n",
    "    # 'hla_match_drb1_high',\n",
    "    # 'hla_low_res_10',\n",
    "    'dri_score',\n",
    "    'psych_disturb',\n",
    "    'cyto_score',\n",
    "    'diabetes',\n",
    "    'tbi_status',\n",
    "    'arrhythmia',\n",
    "    'graft_type',\n",
    "    'vent_hist',\n",
    "    'renal_issue',\n",
    "    'pulm_severe',\n",
    "    'cmv_status',\n",
    "    'tce_imm_match',\n",
    "    'rituximab',\n",
    "    'prod_type',\n",
    "    'cyto_score_detail',\n",
    "    'conditioning_intensity',\n",
    "    'obesity',\n",
    "    'mrd_hct',\n",
    "    'in_vivo_tcd',\n",
    "    'tce_match',\n",
    "    'hepatic_severe',\n",
    "    'prior_tumor',\n",
    "    'peptic_ulcer',\n",
    "    'gvhd_proph',\n",
    "    'rheum_issue',\n",
    "    'sex_match',\n",
    "    'hepatic_mild',\n",
    "    'tce_div_match',\n",
    "    'donor_related',\n",
    "    'melphalan_dose',\n",
    "    'cardiac',\n",
    "    'pulm_moderate',\n",
    "    'prim_disease_hct_AI',\n",
    "    'prim_disease_hct_ALL',\n",
    "    'prim_disease_hct_AML',\n",
    "    'prim_disease_hct_CML',\n",
    "    'prim_disease_hct_HD',\n",
    "    'prim_disease_hct_HIS',\n",
    "    'prim_disease_hct_IEA',\n",
    "    'prim_disease_hct_IIS',\n",
    "    'prim_disease_hct_IMD',\n",
    "    'prim_disease_hct_IPA',\n",
    "    'prim_disease_hct_MDS',\n",
    "    'prim_disease_hct_MPN',\n",
    "    'prim_disease_hct_NHL',\n",
    "    'prim_disease_hct_Other acute leukemia',\n",
    "    'prim_disease_hct_Other leukemia',\n",
    "    'prim_disease_hct_PCD',\n",
    "    'prim_disease_hct_SAA',\n",
    "    # 'prim_disease_hct_Solid tumor',\n",
    "    'ethnicity_Hispanic or Latino',\n",
    "    'ethnicity_Non-resident of the U.S.',\n",
    "    'ethnicity_Not Hispanic or Latino',\n",
    "    'race_group_American Indian or Alaska Native',\n",
    "    'race_group_Asian',\n",
    "    'race_group_Black or African-American',\n",
    "    'race_group_More than one race',\n",
    "    'race_group_Native Hawaiian or other Pacific Islander',\n",
    "    # 'race_group_White',\n",
    "]]"
   ]
  },
  {
   "cell_type": "code",
   "execution_count": 6,
   "metadata": {},
   "outputs": [],
   "source": [
    "dtrain = xgb.DMatrix(X_cph, label=efs_time)\n",
    "dtrain.set_weight(y)"
   ]
  },
  {
   "cell_type": "markdown",
   "metadata": {},
   "source": [
    "## Metric"
   ]
  },
  {
   "cell_type": "code",
   "execution_count": 7,
   "metadata": {},
   "outputs": [],
   "source": [
    "def cross_validate_xgboost_survival(params, X, efs, efs_time, cv=5):\n",
    "    kf = KFold(n_splits=cv, shuffle=True, random_state=RANDOM_STATE)\n",
    "    c_index_scores = []\n",
    "    \n",
    "    for train_index, test_index in kf.split(X):\n",
    "        X_train, X_test = X.iloc[train_index], X.iloc[test_index]\n",
    "        efs_time_train, efs_time_test = efs_time.iloc[train_index], efs_time.iloc[test_index]\n",
    "        efs_train, efs_test = efs.iloc[train_index], efs.iloc[test_index]\n",
    "        \n",
    "        dtrain = xgb.DMatrix(X_train, label=efs_time_train)\n",
    "        dtrain.set_weight(efs_train)\n",
    "        dtest = xgb.DMatrix(X_test, label=efs_time_test)\n",
    "        dtest.set_weight(efs_test)\n",
    "        \n",
    "        model = xgb.train(params, dtrain)\n",
    "        \n",
    "        pred_risks = model.predict(dtest)\n",
    "        \n",
    "        c_index = concordance_index(\n",
    "            efs_time_test,\n",
    "            -pred_risks,\n",
    "            event_observed=efs_test\n",
    "        )\n",
    "        \n",
    "        c_index_scores.append(c_index)\n",
    "    \n",
    "    return np.mean(c_index_scores)"
   ]
  },
  {
   "cell_type": "markdown",
   "metadata": {},
   "source": [
    "# Search"
   ]
  },
  {
   "cell_type": "code",
   "execution_count": 8,
   "metadata": {},
   "outputs": [],
   "source": [
    "def objective(trial):\n",
    "    params = {\n",
    "        'objective': 'survival:cox',\n",
    "        'eval_metric': 'cox-nloglik',\n",
    "        'eta': trial.suggest_float('eta', 0.0001, 0.3),\n",
    "        'max_depth': trial.suggest_int('max_depth', 3, 100),\n",
    "        'subsample': trial.suggest_float('subsample', 0.5, 1.0),\n",
    "        'colsample_bytree': trial.suggest_float('colsample_bytree', 0.5, 1.0),\n",
    "        # 'lambda_': trial.suggest_float('lambda', 0.0, 1.0)\n",
    "    }\n",
    "    \n",
    "    cv_index = cross_validate_xgboost_survival(\n",
    "        params, X, pd.Series(y, name='efs'), efs_time, cv=5\n",
    "    )\n",
    "    \n",
    "    return round(cv_index, 4)"
   ]
  },
  {
   "cell_type": "code",
   "execution_count": 9,
   "metadata": {},
   "outputs": [
    {
     "name": "stderr",
     "output_type": "stream",
     "text": [
      "[I 2025-01-12 20:52:51,877] A new study created in memory with name: no-name-90a6ccf6-c594-4a23-ad32-2559a8d5a458\n",
      "[I 2025-01-12 20:52:52,725] Trial 0 finished with value: 0.5457 and parameters: {'eta': 0.13853780559492312, 'max_depth': 87, 'subsample': 0.6788122953132809, 'colsample_bytree': 0.9613807270883543}. Best is trial 0 with value: 0.5457.\n",
      "[I 2025-01-12 20:52:53,496] Trial 1 finished with value: 0.5403 and parameters: {'eta': 0.258561527546016, 'max_depth': 60, 'subsample': 0.816841250909996, 'colsample_bytree': 0.6728108196653453}. Best is trial 0 with value: 0.5457.\n",
      "[I 2025-01-12 20:52:54,452] Trial 2 finished with value: 0.548 and parameters: {'eta': 0.05781223627453493, 'max_depth': 52, 'subsample': 0.8039702021638555, 'colsample_bytree': 0.984382647046733}. Best is trial 2 with value: 0.548.\n",
      "[I 2025-01-12 20:52:55,229] Trial 3 finished with value: 0.5367 and parameters: {'eta': 0.23070353238087682, 'max_depth': 64, 'subsample': 0.787477443352733, 'colsample_bytree': 0.6755514364326822}. Best is trial 2 with value: 0.548.\n",
      "[I 2025-01-12 20:52:56,112] Trial 4 finished with value: 0.5455 and parameters: {'eta': 0.0965644986140379, 'max_depth': 95, 'subsample': 0.8224929541520318, 'colsample_bytree': 0.6005431904315808}. Best is trial 2 with value: 0.548.\n",
      "[I 2025-01-12 20:52:56,921] Trial 5 finished with value: 0.539 and parameters: {'eta': 0.23227332579510399, 'max_depth': 29, 'subsample': 0.5199210430924659, 'colsample_bytree': 0.7455220066308967}. Best is trial 2 with value: 0.548.\n",
      "[I 2025-01-12 20:52:57,900] Trial 6 finished with value: 0.5479 and parameters: {'eta': 0.017213089766109205, 'max_depth': 43, 'subsample': 0.6380683248350377, 'colsample_bytree': 0.7839124730019975}. Best is trial 2 with value: 0.548.\n",
      "[I 2025-01-12 20:52:58,692] Trial 7 finished with value: 0.5428 and parameters: {'eta': 0.18054200332289916, 'max_depth': 82, 'subsample': 0.9195208129991391, 'colsample_bytree': 0.7424338818232668}. Best is trial 2 with value: 0.548.\n",
      "[I 2025-01-12 20:52:59,433] Trial 8 finished with value: 0.5444 and parameters: {'eta': 0.1305368305281709, 'max_depth': 10, 'subsample': 0.6425244349211429, 'colsample_bytree': 0.8858722752642534}. Best is trial 2 with value: 0.548.\n",
      "[I 2025-01-12 20:53:00,218] Trial 9 finished with value: 0.537 and parameters: {'eta': 0.2668860846992148, 'max_depth': 85, 'subsample': 0.8880219519794067, 'colsample_bytree': 0.7865878649910618}. Best is trial 2 with value: 0.548.\n",
      "[I 2025-01-12 20:53:01,394] Trial 10 finished with value: 0.5447 and parameters: {'eta': 0.009575844113938747, 'max_depth': 35, 'subsample': 0.9862479540676968, 'colsample_bytree': 0.996873484288088}. Best is trial 2 with value: 0.548.\n",
      "[I 2025-01-12 20:53:02,367] Trial 11 finished with value: 0.5483 and parameters: {'eta': 0.01179816129695506, 'max_depth': 42, 'subsample': 0.6317884055215728, 'colsample_bytree': 0.5125661521613556}. Best is trial 11 with value: 0.5483.\n",
      "[I 2025-01-12 20:53:03,279] Trial 12 finished with value: 0.5478 and parameters: {'eta': 0.0643029659825855, 'max_depth': 53, 'subsample': 0.5289158384312773, 'colsample_bytree': 0.5436864526048077}. Best is trial 11 with value: 0.5483.\n",
      "[I 2025-01-12 20:53:04,213] Trial 13 finished with value: 0.5448 and parameters: {'eta': 0.05914521711656123, 'max_depth': 20, 'subsample': 0.7127874090154569, 'colsample_bytree': 0.885823178140398}. Best is trial 11 with value: 0.5483.\n",
      "[I 2025-01-12 20:53:05,112] Trial 14 finished with value: 0.5489 and parameters: {'eta': 0.05559164181566496, 'max_depth': 72, 'subsample': 0.5836702612488809, 'colsample_bytree': 0.5439747031768833}. Best is trial 14 with value: 0.5489.\n",
      "[I 2025-01-12 20:53:06,001] Trial 15 finished with value: 0.5468 and parameters: {'eta': 0.025836677170083047, 'max_depth': 70, 'subsample': 0.5868551806849113, 'colsample_bytree': 0.53622814451006}. Best is trial 14 with value: 0.5489.\n",
      "[I 2025-01-12 20:53:06,884] Trial 16 finished with value: 0.5478 and parameters: {'eta': 0.09794973905277066, 'max_depth': 76, 'subsample': 0.6096278648527024, 'colsample_bytree': 0.5049281351459081}. Best is trial 14 with value: 0.5489.\n",
      "[I 2025-01-12 20:53:07,811] Trial 17 finished with value: 0.5409 and parameters: {'eta': 0.1763348866741161, 'max_depth': 42, 'subsample': 0.5708493261692069, 'colsample_bytree': 0.6005864173064215}. Best is trial 14 with value: 0.5489.\n",
      "[I 2025-01-12 20:53:08,460] Trial 18 finished with value: 0.5325 and parameters: {'eta': 0.0014186931186842833, 'max_depth': 5, 'subsample': 0.7324980899301283, 'colsample_bytree': 0.5881362998651538}. Best is trial 14 with value: 0.5489.\n",
      "[I 2025-01-12 20:53:09,371] Trial 19 finished with value: 0.5434 and parameters: {'eta': 0.09592041096909842, 'max_depth': 100, 'subsample': 0.6863955746403391, 'colsample_bytree': 0.6630118127372328}. Best is trial 14 with value: 0.5489.\n",
      "[I 2025-01-12 20:53:10,240] Trial 20 finished with value: 0.548 and parameters: {'eta': 0.04797657389804352, 'max_depth': 22, 'subsample': 0.5687948522318595, 'colsample_bytree': 0.5047242456493706}. Best is trial 14 with value: 0.5489.\n",
      "[I 2025-01-12 20:53:11,226] Trial 21 finished with value: 0.548 and parameters: {'eta': 0.041290763443494076, 'max_depth': 55, 'subsample': 0.7670497198183669, 'colsample_bytree': 0.8777304103302228}. Best is trial 14 with value: 0.5489.\n",
      "[I 2025-01-12 20:53:12,088] Trial 22 finished with value: 0.5472 and parameters: {'eta': 0.08052139845432241, 'max_depth': 46, 'subsample': 0.8631695852432788, 'colsample_bytree': 0.5551117698022023}. Best is trial 14 with value: 0.5489.\n",
      "[I 2025-01-12 20:53:13,049] Trial 23 finished with value: 0.5476 and parameters: {'eta': 0.03320481187200323, 'max_depth': 70, 'subsample': 0.652049703914499, 'colsample_bytree': 0.6466845960483386}. Best is trial 14 with value: 0.5489.\n",
      "[I 2025-01-12 20:53:13,890] Trial 24 finished with value: 0.5432 and parameters: {'eta': 0.1213869634493553, 'max_depth': 36, 'subsample': 0.730529714438633, 'colsample_bytree': 0.8210428352603338}. Best is trial 14 with value: 0.5489.\n",
      "[I 2025-01-12 20:53:14,754] Trial 25 finished with value: 0.5444 and parameters: {'eta': 0.07350140267221514, 'max_depth': 60, 'subsample': 0.5419666023810146, 'colsample_bytree': 0.7105113154073128}. Best is trial 14 with value: 0.5489.\n",
      "[I 2025-01-12 20:53:15,600] Trial 26 finished with value: 0.5424 and parameters: {'eta': 0.160155824826735, 'max_depth': 49, 'subsample': 0.5048644375090491, 'colsample_bytree': 0.9293263720803884}. Best is trial 14 with value: 0.5489.\n",
      "[I 2025-01-12 20:53:16,501] Trial 27 finished with value: 0.5469 and parameters: {'eta': 0.035885840777917025, 'max_depth': 72, 'subsample': 0.6116624664899282, 'colsample_bytree': 0.6254825416959767}. Best is trial 14 with value: 0.5489.\n",
      "[I 2025-01-12 20:53:17,360] Trial 28 finished with value: 0.5421 and parameters: {'eta': 0.10676649215437214, 'max_depth': 35, 'subsample': 0.6830115668812435, 'colsample_bytree': 0.8364003091736766}. Best is trial 14 with value: 0.5489.\n",
      "[I 2025-01-12 20:53:18,195] Trial 29 finished with value: 0.5432 and parameters: {'eta': 0.14509611376427514, 'max_depth': 64, 'subsample': 0.7736248894012586, 'colsample_bytree': 0.9470136345185333}. Best is trial 14 with value: 0.5489.\n",
      "[I 2025-01-12 20:53:19,082] Trial 30 finished with value: 0.546 and parameters: {'eta': 0.05746766027833256, 'max_depth': 79, 'subsample': 0.7101915485721969, 'colsample_bytree': 0.5679228839010391}. Best is trial 14 with value: 0.5489.\n",
      "[I 2025-01-12 20:53:19,937] Trial 31 finished with value: 0.5474 and parameters: {'eta': 0.04769355834692414, 'max_depth': 22, 'subsample': 0.5659565505860099, 'colsample_bytree': 0.5006723448453415}. Best is trial 14 with value: 0.5489.\n",
      "[I 2025-01-12 20:53:20,834] Trial 32 finished with value: 0.5458 and parameters: {'eta': 0.001185424493161098, 'max_depth': 19, 'subsample': 0.5708065183603513, 'colsample_bytree': 0.5015261418174215}. Best is trial 14 with value: 0.5489.\n",
      "[I 2025-01-12 20:53:21,785] Trial 33 finished with value: 0.5492 and parameters: {'eta': 0.08463272533819982, 'max_depth': 28, 'subsample': 0.6076269575885935, 'colsample_bytree': 0.5328072726286892}. Best is trial 33 with value: 0.5492.\n",
      "[I 2025-01-12 20:53:22,684] Trial 34 finished with value: 0.5458 and parameters: {'eta': 0.07594284795487424, 'max_depth': 29, 'subsample': 0.8198212759528615, 'colsample_bytree': 0.6989140216671794}. Best is trial 33 with value: 0.5492.\n",
      "[I 2025-01-12 20:53:23,487] Trial 35 finished with value: 0.5351 and parameters: {'eta': 0.28884084727678183, 'max_depth': 56, 'subsample': 0.6210575821914125, 'colsample_bytree': 0.6287406678796099}. Best is trial 33 with value: 0.5492.\n",
      "[I 2025-01-12 20:53:24,429] Trial 36 finished with value: 0.5485 and parameters: {'eta': 0.021311151297995906, 'max_depth': 93, 'subsample': 0.6691408273092745, 'colsample_bytree': 0.5775287582587503}. Best is trial 33 with value: 0.5492.\n",
      "[I 2025-01-12 20:53:25,336] Trial 37 finished with value: 0.5495 and parameters: {'eta': 0.02206460882691775, 'max_depth': 91, 'subsample': 0.6522487916345184, 'colsample_bytree': 0.532437660773369}. Best is trial 37 with value: 0.5495.\n",
      "[I 2025-01-12 20:53:26,288] Trial 38 finished with value: 0.5479 and parameters: {'eta': 0.025856602223631092, 'max_depth': 90, 'subsample': 0.6719782872417774, 'colsample_bytree': 0.5958038724377206}. Best is trial 37 with value: 0.5495.\n",
      "[I 2025-01-12 20:53:27,082] Trial 39 finished with value: 0.539 and parameters: {'eta': 0.21139375239111208, 'max_depth': 89, 'subsample': 0.5952832182017501, 'colsample_bytree': 0.5742415293991927}. Best is trial 37 with value: 0.5495.\n",
      "[I 2025-01-12 20:53:27,922] Trial 40 finished with value: 0.5489 and parameters: {'eta': 0.08634644586597617, 'max_depth': 96, 'subsample': 0.6607074066332593, 'colsample_bytree': 0.5353496980760757}. Best is trial 37 with value: 0.5495.\n",
      "[I 2025-01-12 20:53:28,765] Trial 41 finished with value: 0.5469 and parameters: {'eta': 0.08483207729552711, 'max_depth': 94, 'subsample': 0.6587296942616798, 'colsample_bytree': 0.5338084164884088}. Best is trial 37 with value: 0.5495.\n",
      "[I 2025-01-12 20:53:29,793] Trial 42 finished with value: 0.5481 and parameters: {'eta': 0.06281700808659099, 'max_depth': 99, 'subsample': 0.6969479234931745, 'colsample_bytree': 0.5294959360673882}. Best is trial 37 with value: 0.5495.\n",
      "[I 2025-01-12 20:53:30,637] Trial 43 finished with value: 0.5472 and parameters: {'eta': 0.1199130540107563, 'max_depth': 85, 'subsample': 0.6638947188896281, 'colsample_bytree': 0.5650766239468666}. Best is trial 37 with value: 0.5495.\n",
      "[I 2025-01-12 20:53:31,613] Trial 44 finished with value: 0.5433 and parameters: {'eta': 0.01501072020168321, 'max_depth': 94, 'subsample': 0.6379939766588563, 'colsample_bytree': 0.627860733263779}. Best is trial 37 with value: 0.5495.\n",
      "[I 2025-01-12 20:53:32,521] Trial 45 finished with value: 0.5473 and parameters: {'eta': 0.04677214569240995, 'max_depth': 80, 'subsample': 0.5377160157063273, 'colsample_bytree': 0.5502066481437371}. Best is trial 37 with value: 0.5495.\n",
      "[I 2025-01-12 20:53:33,353] Trial 46 finished with value: 0.5483 and parameters: {'eta': 0.09108290962447095, 'max_depth': 90, 'subsample': 0.6125838979402678, 'colsample_bytree': 0.5262070231353699}. Best is trial 37 with value: 0.5495.\n",
      "[I 2025-01-12 20:53:34,244] Trial 47 finished with value: 0.5441 and parameters: {'eta': 0.1062657234128932, 'max_depth': 96, 'subsample': 0.589373612303267, 'colsample_bytree': 0.5835101795482787}. Best is trial 37 with value: 0.5495.\n",
      "[I 2025-01-12 20:53:35,183] Trial 48 finished with value: 0.5471 and parameters: {'eta': 0.026121164874173902, 'max_depth': 76, 'subsample': 0.649802558219269, 'colsample_bytree': 0.6078760668258281}. Best is trial 37 with value: 0.5495.\n",
      "[I 2025-01-12 20:53:36,064] Trial 49 finished with value: 0.5477 and parameters: {'eta': 0.06940172241589622, 'max_depth': 84, 'subsample': 0.7362958716466835, 'colsample_bytree': 0.5262114053523496}. Best is trial 37 with value: 0.5495.\n",
      "[I 2025-01-12 20:53:37,031] Trial 50 finished with value: 0.548 and parameters: {'eta': 0.01765272486801038, 'max_depth': 64, 'subsample': 0.7088749743932438, 'colsample_bytree': 0.5529657513027714}. Best is trial 37 with value: 0.5495.\n",
      "[I 2025-01-12 20:53:37,947] Trial 51 finished with value: 0.5479 and parameters: {'eta': 0.01053454492917185, 'max_depth': 14, 'subsample': 0.6298919056730697, 'colsample_bytree': 0.5193519828644871}. Best is trial 37 with value: 0.5495.\n",
      "[I 2025-01-12 20:53:38,816] Trial 52 finished with value: 0.5478 and parameters: {'eta': 0.0558525392962958, 'max_depth': 40, 'subsample': 0.6271901772259431, 'colsample_bytree': 0.5456259597126032}. Best is trial 37 with value: 0.5495.\n",
      "[I 2025-01-12 20:53:39,735] Trial 53 finished with value: 0.5464 and parameters: {'eta': 0.03200383570273528, 'max_depth': 27, 'subsample': 0.5959644256163064, 'colsample_bytree': 0.5813497399818218}. Best is trial 37 with value: 0.5495.\n",
      "[I 2025-01-12 20:53:40,821] Trial 54 finished with value: 0.5458 and parameters: {'eta': 0.0011197196897825487, 'max_depth': 97, 'subsample': 0.5579952466992304, 'colsample_bytree': 0.6105219352875483}. Best is trial 37 with value: 0.5495.\n",
      "[I 2025-01-12 20:53:41,974] Trial 55 finished with value: 0.5473 and parameters: {'eta': 0.0206614389291265, 'max_depth': 92, 'subsample': 0.681512553838823, 'colsample_bytree': 0.5668485310638086}. Best is trial 37 with value: 0.5495.\n",
      "[I 2025-01-12 20:53:43,027] Trial 56 finished with value: 0.5466 and parameters: {'eta': 0.038394396142263955, 'max_depth': 87, 'subsample': 0.6437538685613857, 'colsample_bytree': 0.5162275408744887}. Best is trial 37 with value: 0.5495.\n",
      "[I 2025-01-12 20:53:44,001] Trial 57 finished with value: 0.5473 and parameters: {'eta': 0.05450575868213394, 'max_depth': 100, 'subsample': 0.6057019784548314, 'colsample_bytree': 0.5420201131251146}. Best is trial 37 with value: 0.5495.\n",
      "[I 2025-01-12 20:53:45,010] Trial 58 finished with value: 0.5471 and parameters: {'eta': 0.01104240392865716, 'max_depth': 31, 'subsample': 0.6656574280378427, 'colsample_bytree': 0.6486870973192533}. Best is trial 37 with value: 0.5495.\n",
      "[I 2025-01-12 20:53:45,902] Trial 59 finished with value: 0.5493 and parameters: {'eta': 0.0678340508549356, 'max_depth': 47, 'subsample': 0.9653048464703476, 'colsample_bytree': 0.5566732808053717}. Best is trial 37 with value: 0.5495.\n",
      "[I 2025-01-12 20:53:46,770] Trial 60 finished with value: 0.5445 and parameters: {'eta': 0.1324518224119718, 'max_depth': 75, 'subsample': 0.9733023592483245, 'colsample_bytree': 0.5957547719825218}. Best is trial 37 with value: 0.5495.\n",
      "[I 2025-01-12 20:53:47,608] Trial 61 finished with value: 0.5479 and parameters: {'eta': 0.08663999818948777, 'max_depth': 47, 'subsample': 0.8892951509547928, 'colsample_bytree': 0.5151574484317883}. Best is trial 37 with value: 0.5495.\n",
      "[I 2025-01-12 20:53:48,499] Trial 62 finished with value: 0.5498 and parameters: {'eta': 0.06782490514031626, 'max_depth': 44, 'subsample': 0.9611595484664952, 'colsample_bytree': 0.5582788544678906}. Best is trial 62 with value: 0.5498.\n",
      "[I 2025-01-12 20:53:49,343] Trial 63 finished with value: 0.5466 and parameters: {'eta': 0.10501055159421634, 'max_depth': 59, 'subsample': 0.9547301522294164, 'colsample_bytree': 0.5599103277507452}. Best is trial 62 with value: 0.5498.\n",
      "[I 2025-01-12 20:53:50,279] Trial 64 finished with value: 0.5463 and parameters: {'eta': 0.0709132636370303, 'max_depth': 39, 'subsample': 0.9238171568580671, 'colsample_bytree': 0.5446585361321507}. Best is trial 62 with value: 0.5498.\n",
      "[I 2025-01-12 20:53:51,199] Trial 65 finished with value: 0.5476 and parameters: {'eta': 0.04407053618687625, 'max_depth': 51, 'subsample': 0.8430635570162475, 'colsample_bytree': 0.5784767200265093}. Best is trial 62 with value: 0.5498.\n",
      "[I 2025-01-12 20:53:52,040] Trial 66 finished with value: 0.5473 and parameters: {'eta': 0.1171520860345057, 'max_depth': 66, 'subsample': 0.93200116873144, 'colsample_bytree': 0.6149650997785969}. Best is trial 62 with value: 0.5498.\n",
      "[I 2025-01-12 20:53:52,930] Trial 67 finished with value: 0.5468 and parameters: {'eta': 0.07898810438211155, 'max_depth': 46, 'subsample': 0.9976404985131057, 'colsample_bytree': 0.6907088540679165}. Best is trial 62 with value: 0.5498.\n",
      "[I 2025-01-12 20:53:53,806] Trial 68 finished with value: 0.5466 and parameters: {'eta': 0.06639396154955057, 'max_depth': 81, 'subsample': 0.9454283763863132, 'colsample_bytree': 0.5348875961228022}. Best is trial 62 with value: 0.5498.\n",
      "[I 2025-01-12 20:53:54,770] Trial 69 finished with value: 0.5477 and parameters: {'eta': 0.05181937566443598, 'max_depth': 44, 'subsample': 0.9005482771889105, 'colsample_bytree': 0.7342926310131644}. Best is trial 62 with value: 0.5498.\n",
      "[I 2025-01-12 20:53:55,600] Trial 70 finished with value: 0.5453 and parameters: {'eta': 0.09924562264240894, 'max_depth': 55, 'subsample': 0.7948740762211673, 'colsample_bytree': 0.5591847392111905}. Best is trial 62 with value: 0.5498.\n",
      "[I 2025-01-12 20:53:56,527] Trial 71 finished with value: 0.5495 and parameters: {'eta': 0.032354521537133724, 'max_depth': 52, 'subsample': 0.9700182752143182, 'colsample_bytree': 0.5112338137168623}. Best is trial 62 with value: 0.5498.\n",
      "[I 2025-01-12 20:53:57,477] Trial 72 finished with value: 0.5478 and parameters: {'eta': 0.03155374727690197, 'max_depth': 32, 'subsample': 0.9597187546718107, 'colsample_bytree': 0.5165246829969343}. Best is trial 62 with value: 0.5498.\n",
      "[I 2025-01-12 20:53:58,390] Trial 73 finished with value: 0.5497 and parameters: {'eta': 0.03815668231627385, 'max_depth': 51, 'subsample': 0.9788336388831564, 'colsample_bytree': 0.5044479354022889}. Best is trial 62 with value: 0.5498.\n",
      "[I 2025-01-12 20:53:59,309] Trial 74 finished with value: 0.55 and parameters: {'eta': 0.038782590447270684, 'max_depth': 52, 'subsample': 0.9756308703544356, 'colsample_bytree': 0.5089990554450387}. Best is trial 74 with value: 0.55.\n",
      "[I 2025-01-12 20:54:00,255] Trial 75 finished with value: 0.5497 and parameters: {'eta': 0.040452103559026766, 'max_depth': 50, 'subsample': 0.978427568266847, 'colsample_bytree': 0.508856949607083}. Best is trial 74 with value: 0.55.\n",
      "[I 2025-01-12 20:54:01,193] Trial 76 finished with value: 0.5498 and parameters: {'eta': 0.03461686702583689, 'max_depth': 51, 'subsample': 0.9782849478347384, 'colsample_bytree': 0.5000850081736816}. Best is trial 74 with value: 0.55.\n",
      "[I 2025-01-12 20:54:02,140] Trial 77 finished with value: 0.5486 and parameters: {'eta': 0.03947088395447882, 'max_depth': 51, 'subsample': 0.9747610590465877, 'colsample_bytree': 0.5057884867187954}. Best is trial 74 with value: 0.55.\n",
      "[I 2025-01-12 20:54:03,151] Trial 78 finished with value: 0.5484 and parameters: {'eta': 0.028353945612764823, 'max_depth': 58, 'subsample': 0.9995860089545388, 'colsample_bytree': 0.5002663588499601}. Best is trial 74 with value: 0.55.\n",
      "[I 2025-01-12 20:54:04,074] Trial 79 finished with value: 0.5492 and parameters: {'eta': 0.040494254492260864, 'max_depth': 49, 'subsample': 0.9773492391921506, 'colsample_bytree': 0.5181428555660312}. Best is trial 74 with value: 0.55.\n",
      "[I 2025-01-12 20:54:04,871] Trial 80 finished with value: 0.5433 and parameters: {'eta': 0.20324729728484095, 'max_depth': 54, 'subsample': 0.9048920361006686, 'colsample_bytree': 0.5001020545729562}. Best is trial 74 with value: 0.55.\n",
      "[I 2025-01-12 20:54:05,807] Trial 81 finished with value: 0.5477 and parameters: {'eta': 0.06466464564503269, 'max_depth': 38, 'subsample': 0.9427191054324751, 'colsample_bytree': 0.5277594459963512}. Best is trial 74 with value: 0.55.\n",
      "[I 2025-01-12 20:54:06,787] Trial 82 finished with value: 0.5475 and parameters: {'eta': 0.0466847586073118, 'max_depth': 43, 'subsample': 0.9693484329605342, 'colsample_bytree': 0.7771797973275109}. Best is trial 74 with value: 0.55.\n",
      "[I 2025-01-12 20:54:07,689] Trial 83 finished with value: 0.5496 and parameters: {'eta': 0.0575923823685256, 'max_depth': 61, 'subsample': 0.9890453981612126, 'colsample_bytree': 0.5132114680773766}. Best is trial 74 with value: 0.55.\n",
      "[I 2025-01-12 20:54:08,604] Trial 84 finished with value: 0.5503 and parameters: {'eta': 0.05884790339411519, 'max_depth': 50, 'subsample': 0.9909449377442469, 'colsample_bytree': 0.513728660762146}. Best is trial 84 with value: 0.5503.\n",
      "[I 2025-01-12 20:54:09,547] Trial 85 finished with value: 0.5499 and parameters: {'eta': 0.034453651668120394, 'max_depth': 62, 'subsample': 0.9866135154867132, 'colsample_bytree': 0.5126673451772727}. Best is trial 84 with value: 0.5503.\n",
      "[I 2025-01-12 20:54:10,463] Trial 86 finished with value: 0.5498 and parameters: {'eta': 0.057427237519774715, 'max_depth': 61, 'subsample': 0.9884832800809019, 'colsample_bytree': 0.5201219041478116}. Best is trial 84 with value: 0.5503.\n",
      "[I 2025-01-12 20:54:11,408] Trial 87 finished with value: 0.5487 and parameters: {'eta': 0.06132727118936436, 'max_depth': 63, 'subsample': 0.9852343393507891, 'colsample_bytree': 0.5207400077000004}. Best is trial 84 with value: 0.5503.\n",
      "[I 2025-01-12 20:54:12,364] Trial 88 finished with value: 0.5491 and parameters: {'eta': 0.04965222391354815, 'max_depth': 62, 'subsample': 0.9882422833254166, 'colsample_bytree': 0.5122346666707221}. Best is trial 84 with value: 0.5503.\n",
      "[I 2025-01-12 20:54:13,280] Trial 89 finished with value: 0.5466 and parameters: {'eta': 0.057386117150467895, 'max_depth': 57, 'subsample': 0.9456413319285416, 'colsample_bytree': 0.5395633758554068}. Best is trial 84 with value: 0.5503.\n",
      "[I 2025-01-12 20:54:14,097] Trial 90 finished with value: 0.5455 and parameters: {'eta': 0.1608310521262083, 'max_depth': 61, 'subsample': 0.9906322146541591, 'colsample_bytree': 0.5099928348829703}. Best is trial 84 with value: 0.5503.\n",
      "[I 2025-01-12 20:54:15,086] Trial 91 finished with value: 0.5493 and parameters: {'eta': 0.022225674963521364, 'max_depth': 50, 'subsample': 0.9552893662929127, 'colsample_bytree': 0.525828564310137}. Best is trial 84 with value: 0.5503.\n",
      "[I 2025-01-12 20:54:16,049] Trial 92 finished with value: 0.55 and parameters: {'eta': 0.04052937087134204, 'max_depth': 68, 'subsample': 0.9825139832391384, 'colsample_bytree': 0.5501104787275439}. Best is trial 84 with value: 0.5503.\n",
      "[I 2025-01-12 20:54:17,010] Trial 93 finished with value: 0.5493 and parameters: {'eta': 0.03859532932505308, 'max_depth': 69, 'subsample': 0.9838085794977265, 'colsample_bytree': 0.5421076215313749}. Best is trial 84 with value: 0.5503.\n",
      "[I 2025-01-12 20:54:17,952] Trial 94 finished with value: 0.5483 and parameters: {'eta': 0.05206432033834639, 'max_depth': 54, 'subsample': 0.93684200856175, 'colsample_bytree': 0.552798569181546}. Best is trial 84 with value: 0.5503.\n",
      "[I 2025-01-12 20:54:18,882] Trial 95 finished with value: 0.5497 and parameters: {'eta': 0.07529283667235843, 'max_depth': 66, 'subsample': 0.9255082076817549, 'colsample_bytree': 0.567597689295841}. Best is trial 84 with value: 0.5503.\n",
      "[I 2025-01-12 20:54:19,825] Trial 96 finished with value: 0.5458 and parameters: {'eta': 0.07569491844598973, 'max_depth': 65, 'subsample': 0.9281832938638995, 'colsample_bytree': 0.5677732208532966}. Best is trial 84 with value: 0.5503.\n",
      "[I 2025-01-12 20:54:20,767] Trial 97 finished with value: 0.5476 and parameters: {'eta': 0.04509917003071618, 'max_depth': 57, 'subsample': 0.9079385926411842, 'colsample_bytree': 0.5273800074965715}. Best is trial 84 with value: 0.5503.\n",
      "[I 2025-01-12 20:54:21,873] Trial 98 finished with value: 0.5464 and parameters: {'eta': 0.006596983417023888, 'max_depth': 69, 'subsample': 0.9534116219038424, 'colsample_bytree': 0.587329503989543}. Best is trial 84 with value: 0.5503.\n",
      "[I 2025-01-12 20:54:22,859] Trial 99 finished with value: 0.548 and parameters: {'eta': 0.031745337787598624, 'max_depth': 66, 'subsample': 0.9142602128385264, 'colsample_bytree': 0.5440383060277918}. Best is trial 84 with value: 0.5503.\n"
     ]
    }
   ],
   "source": [
    "study = optuna.create_study(direction=\"maximize\")\n",
    "study.optimize(objective, n_trials=100)"
   ]
  },
  {
   "cell_type": "code",
   "execution_count": 10,
   "metadata": {},
   "outputs": [
    {
     "name": "stdout",
     "output_type": "stream",
     "text": [
      "Mejores hiperparámetros: {'eta': 0.05884790339411519, 'max_depth': 50, 'subsample': 0.9909449377442469, 'colsample_bytree': 0.513728660762146}\n",
      "Mejor índice de concordancia: 0.5503\n"
     ]
    }
   ],
   "source": [
    "print(\"Mejores hiperparámetros:\", study.best_params)\n",
    "print(\"Mejor índice de concordancia:\", study.best_value)"
   ]
  },
  {
   "cell_type": "code",
   "execution_count": null,
   "metadata": {},
   "outputs": [],
   "source": []
  }
 ],
 "metadata": {
  "kernelspec": {
   "display_name": "pyenv3-10",
   "language": "python",
   "name": "python3"
  },
  "language_info": {
   "codemirror_mode": {
    "name": "ipython",
    "version": 3
   },
   "file_extension": ".py",
   "mimetype": "text/x-python",
   "name": "python",
   "nbconvert_exporter": "python",
   "pygments_lexer": "ipython3",
   "version": "3.10.15"
  }
 },
 "nbformat": 4,
 "nbformat_minor": 2
}
